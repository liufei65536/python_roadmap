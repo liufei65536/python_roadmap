{
 "cells": [
  {
   "cell_type": "markdown",
   "id": "6309533f",
   "metadata": {},
   "source": [
    "#  时间"
   ]
  },
  {
   "cell_type": "code",
   "execution_count": 1,
   "id": "fbefef30",
   "metadata": {
    "ExecuteTime": {
     "end_time": "2023-03-08T02:41:32.525468Z",
     "start_time": "2023-03-08T02:41:32.519613Z"
    }
   },
   "outputs": [
    {
     "name": "stdout",
     "output_type": "stream",
     "text": [
      "当前日期和时间： 2023-03-08 10:41:32\n"
     ]
    }
   ],
   "source": [
    "from datetime import datetime\n",
    "\n",
    "now = datetime.now()\n",
    "formatted_time = now.strftime(\"%Y-%m-%d %H:%M:%S\")\n",
    "print(\"当前日期和时间：\", formatted_time)\n"
   ]
  },
  {
   "cell_type": "code",
   "execution_count": null,
   "id": "909ec971",
   "metadata": {},
   "outputs": [],
   "source": []
  }
 ],
 "metadata": {
  "kernelspec": {
   "display_name": "Python 3 (ipykernel)",
   "language": "python",
   "name": "python3"
  },
  "language_info": {
   "codemirror_mode": {
    "name": "ipython",
    "version": 3
   },
   "file_extension": ".py",
   "mimetype": "text/x-python",
   "name": "python",
   "nbconvert_exporter": "python",
   "pygments_lexer": "ipython3",
   "version": "3.8.13"
  },
  "vp": {
   "vp_config_version": "1.0.0",
   "vp_menu_width": 273,
   "vp_note_display": false,
   "vp_note_width": 0,
   "vp_position": {
    "width": 278
   },
   "vp_section_display": false,
   "vp_signature": "VisualPython"
  }
 },
 "nbformat": 4,
 "nbformat_minor": 5
}
