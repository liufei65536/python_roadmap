{
 "cells": [
  {
   "cell_type": "markdown",
   "id": "802cbae9",
   "metadata": {},
   "source": [
    "# 1. OOP\n"
   ]
  },
  {
   "cell_type": "markdown",
   "id": "c5f28006",
   "metadata": {},
   "source": [
    "在 Python 中，面向对象编程 (object-oriented Programming, OOP) 是一种在编程中使用**对象和类**的编程范例。 它旨在在编程中**实现现实世界的实体**，如**继承、多态、封装**等。 OOP 的主要概念是将**数据和处理该数据的函数**作为一个单元绑定在一起，这样代码的其他部分就无法访问该数据。"
   ]
  },
  {
   "cell_type": "markdown",
   "id": "e9bf0300",
   "metadata": {},
   "source": [
    "## 1.1 类(Classes)\n",
    "类可以看成两部分，数据+处理数据的函数。我们把数据称为**属性**，处理数据的函数称为**方法**。`类=属性+方法`。 \n",
    "\n",
    "**定义类**用关键字`class`："
   ]
  },
  {
   "cell_type": "code",
   "execution_count": 1,
   "id": "c0d5d6b2",
   "metadata": {
    "ExecuteTime": {
     "end_time": "2023-03-01T11:31:53.411074Z",
     "start_time": "2023-03-01T11:31:53.407168Z"
    }
   },
   "outputs": [],
   "source": [
    "class Dog:\n",
    "    pass"
   ]
  },
  {
   "cell_type": "markdown",
   "id": "f318a439",
   "metadata": {},
   "source": [
    "然后我们可以为类添加**初始化方法`__init__`**："
   ]
  },
  {
   "cell_type": "code",
   "execution_count": 2,
   "id": "fa7cc5b2",
   "metadata": {
    "ExecuteTime": {
     "end_time": "2023-03-01T11:32:00.787258Z",
     "start_time": "2023-03-01T11:32:00.782377Z"
    }
   },
   "outputs": [],
   "source": [
    "class Dog:\n",
    "    def __init__(self, name, age):\n",
    "        self.name = name\n",
    "        self.age = age"
   ]
  },
  {
   "cell_type": "markdown",
   "id": "c9abc4e0",
   "metadata": {},
   "source": [
    "通常在初始化方法中设置**属性**。\n",
    "`self.xx`的属性称为**实例属性(instance attribute)**，和实例绑定；与之相对的是**类属性(Class attribute)**，和类绑定。\n",
    ">如果同样的属性名称同时出现在实例和类中，则属性查找会**优先选择实例**:"
   ]
  },
  {
   "cell_type": "code",
   "execution_count": 3,
   "id": "a08aee2e",
   "metadata": {
    "ExecuteTime": {
     "end_time": "2023-03-01T11:32:41.720968Z",
     "start_time": "2023-03-01T11:32:41.716089Z"
    }
   },
   "outputs": [],
   "source": [
    "class Dog:\n",
    "    # Class attribute\n",
    "    species = \"Canis familiaris\"\n",
    "\n",
    "    def __init__(self, name, age):\n",
    "        self.name = name\n",
    "        self.age = age"
   ]
  },
  {
   "cell_type": "markdown",
   "id": "420ffdb0",
   "metadata": {},
   "source": [
    "下面来使用类。只需要使用类名`Dog`就会自动调用相应的初始化方法`__init__`创建类的实例。"
   ]
  },
  {
   "cell_type": "code",
   "execution_count": 4,
   "id": "361ee3d7",
   "metadata": {
    "ExecuteTime": {
     "end_time": "2023-03-01T11:34:34.243363Z",
     "start_time": "2023-03-01T11:34:34.238483Z"
    }
   },
   "outputs": [
    {
     "name": "stdout",
     "output_type": "stream",
     "text": [
      "Buddy 9\n"
     ]
    }
   ],
   "source": [
    "buddy = Dog(\"Buddy\", 9)\n",
    "miles = Dog(\"Miles\", 4)\n",
    "print(buddy.name, buddy.age)"
   ]
  },
  {
   "cell_type": "markdown",
   "id": "6d8a4255",
   "metadata": {},
   "source": [
    "**实例方法：**\n",
    "实例方法是在类中定义的函数，只能从该类的实例调用。就像`.__init__()` ，实例方法的第一个参数始终是`self` (代表实例对象)。"
   ]
  },
  {
   "cell_type": "code",
   "execution_count": 5,
   "id": "ef2b806a",
   "metadata": {
    "ExecuteTime": {
     "end_time": "2023-03-01T11:35:01.877578Z",
     "start_time": "2023-03-01T11:35:01.872657Z"
    }
   },
   "outputs": [],
   "source": [
    "class Dog:\n",
    "    species = \"Canis familiaris\"\n",
    "\n",
    "    def __init__(self, name, age):\n",
    "        self.name = name\n",
    "        self.age = age\n",
    "\n",
    "    # Instance method\n",
    "    def description(self):\n",
    "        return f\"{self.name} is {self.age} years old\"\n",
    "\n",
    "    # Another instance method\n",
    "    def speak(self, sound):\n",
    "        return f\"{self.name} says {sound}\""
   ]
  },
  {
   "cell_type": "code",
   "execution_count": 6,
   "id": "19418eec",
   "metadata": {
    "ExecuteTime": {
     "end_time": "2023-03-01T11:35:10.190973Z",
     "start_time": "2023-03-01T11:35:10.178251Z"
    }
   },
   "outputs": [
    {
     "data": {
      "text/plain": [
       "'Miles is 4 years old'"
      ]
     },
     "execution_count": 6,
     "metadata": {},
     "output_type": "execute_result"
    }
   ],
   "source": [
    "miles = Dog(\"Miles\", 4)\n",
    "miles.description()\n",
    "miles.speak(\"Woof Woof\")\n",
    "miles.speak(\"Bow Wow\")"
   ]
  },
  {
   "cell_type": "markdown",
   "id": "9925c139",
   "metadata": {},
   "source": [
    "## 1.2 继承"
   ]
  },
  {
   "cell_type": "markdown",
   "id": "4421ac69",
   "metadata": {},
   "source": [
    "继承是一个类继承另一个类的属性和方法的过程。新形成的类称为子类，子类派生自的类称为父类。\n",
    "**继承的语法：**"
   ]
  },
  {
   "cell_type": "code",
   "execution_count": 9,
   "id": "7784f254",
   "metadata": {
    "ExecuteTime": {
     "end_time": "2023-03-01T11:36:41.194765Z",
     "start_time": "2023-03-01T11:36:41.189885Z"
    }
   },
   "outputs": [],
   "source": [
    "class BaseClass:\n",
    "    ...\n",
    "\n",
    "# 继承BaseClass\n",
    "class DerivedClass(BaseClass):\n",
    "    ..."
   ]
  },
  {
   "cell_type": "markdown",
   "id": "8ac2da9a",
   "metadata": {},
   "source": [
    "子类拥有父类的属性和方法，并且可以使用 `super()`从子类的方法内部访问父类。\n",
    "\n",
    "除了继承父类的属性和方法，子类还可以有自己特有的属性和方法（扩展），以及重写父类的属性和方法（同名覆盖）。\n",
    "下面是一个例子：\n",
    "首先定义一个`Dog`作为基类："
   ]
  },
  {
   "cell_type": "code",
   "execution_count": 10,
   "id": "acd728b3",
   "metadata": {
    "ExecuteTime": {
     "end_time": "2023-03-01T11:36:55.399114Z",
     "start_time": "2023-03-01T11:36:55.392247Z"
    }
   },
   "outputs": [],
   "source": [
    "class Dog:\n",
    "    species = \"Canis familiaris\"\n",
    "\n",
    "    def __init__(self, name, age):\n",
    "        self.name = name\n",
    "        self.age = age\n",
    "\n",
    "    def __str__(self):\n",
    "        return f\"{self.name} is {self.age} years old\"\n",
    "\n",
    "    def speak(self, sound):\n",
    "        return f\"{self.name} says {sound}\""
   ]
  },
  {
   "cell_type": "markdown",
   "id": "1616ff66",
   "metadata": {},
   "source": [
    "然后从Dog创建不同种类的Dog:"
   ]
  },
  {
   "cell_type": "code",
   "execution_count": 12,
   "id": "af172727",
   "metadata": {
    "ExecuteTime": {
     "end_time": "2023-03-01T11:42:10.911472Z",
     "start_time": "2023-03-01T11:42:10.904640Z"
    }
   },
   "outputs": [
    {
     "data": {
      "text/plain": [
       "'dgg says Arf'"
      ]
     },
     "execution_count": 12,
     "metadata": {},
     "output_type": "execute_result"
    }
   ],
   "source": [
    "class JackRussellTerrier(Dog):\n",
    "    def speak(self, sound=\"Arf\"):\n",
    "        return super().speak(sound)\n",
    "\n",
    "class Dachshund(Dog):\n",
    "    pass\n",
    "\n",
    "class Bulldog(Dog):\n",
    "    pass\n",
    "\n",
    "jrt = JackRussellTerrier('dgg', 2)\n",
    "jrt.speak()"
   ]
  },
  {
   "cell_type": "markdown",
   "id": "10f7876a",
   "metadata": {},
   "source": [
    "### 多继承\n",
    "Python也支持多继承：\n",
    "```py\n",
    "class DerivedClassName(Base1, Base2, Base3):\n",
    "    ...\n",
    "```\n",
    "\n",
    "一般情况下，可以认为搜索从父类所继承属性的操作是**深度优先、从左至右**的，当层次结构中存在重叠时不会在同一个类中搜索两次。 因此，如果某一属性在 DerivedClassName 中未找到，则会到 Base1 中搜索它，然后（递归地）到 Base1 的基类中搜索，如果在那里未找到，再到 Base2 中搜索，依此类推。\n",
    "\n",
    "\n",
    ">tips：\n",
    "Python有两个内置函数可被用于继承机制：\n",
    "使用 `isinstance()`来检查一个实例的类型: `isinstance(obj, int)` 仅会在 `obj.__class__` 为 int 或某个派生自 int 的类时为 True。\n",
    "使用 `issubclass()` 来检查类的继承关系: `issubclass(bool, int)` 为 True，因为 bool 是 int 的子类。 但是，`issubclass(float, int)` 为 False，因为 float 不是 int 的子类。"
   ]
  },
  {
   "cell_type": "markdown",
   "id": "96fee826",
   "metadata": {},
   "source": [
    "## 1.3 Methods, Dunder\n",
    "### Medhod\n",
    "python 中的方法(method)类似于函数(function)，只是它与对象/类相关联。 python中的方法与函数的两个主要区别：\n",
    "1. 该方法隐式用于调用它的对象。\n",
    "2. 该方法可以访问类中包含的数据。\n",
    "\n",
    "普通的函数："
   ]
  },
  {
   "cell_type": "code",
   "execution_count": 13,
   "id": "b00374f2",
   "metadata": {
    "ExecuteTime": {
     "end_time": "2023-03-01T11:43:49.253658Z",
     "start_time": "2023-03-01T11:43:49.248779Z"
    }
   },
   "outputs": [
    {
     "name": "stdout",
     "output_type": "stream",
     "text": [
      "55\n"
     ]
    }
   ],
   "source": [
    "def sum(num1, num2):\n",
    "   return (num1 + num2)\n",
    "\n",
    "print(sum(22,33))"
   ]
  },
  {
   "cell_type": "markdown",
   "id": "a4badec2",
   "metadata": {},
   "source": [
    "方法："
   ]
  },
  {
   "cell_type": "code",
   "execution_count": 14,
   "id": "ea4d4f5f",
   "metadata": {
    "ExecuteTime": {
     "end_time": "2023-03-01T11:44:09.331109Z",
     "start_time": "2023-03-01T11:44:09.326238Z"
    }
   },
   "outputs": [
    {
     "name": "stdout",
     "output_type": "stream",
     "text": [
      "I am a Cat\n"
     ]
    }
   ],
   "source": [
    "class Pet(object):\n",
    "   def my_method(self):\n",
    "      print(\"I am a Cat\")\n",
    "cat = Pet()\n",
    "cat.my_method()"
   ]
  },
  {
   "cell_type": "markdown",
   "id": "814a3c9c",
   "metadata": {},
   "source": [
    "简而言之，方法是属于对象的函数。"
   ]
  },
  {
   "cell_type": "markdown",
   "id": "a5e847c3",
   "metadata": {},
   "source": [
    "### Dunder\n",
    "Python中的 `Dunder`或魔术方法是在方法名称中具有两个前缀和后缀下划线的方法。 Dunder 这里的意思是“Double Under（双下划线）”。 这些通常用于运算符重载。 Dunder方法的几个例子是：`__init__`、`__add__`、`__len__`、`__repr__` 等。\n",
    "\n",
    "Dunder方法并不意味着由您直接调用，但调用发生在类内部的特定操作上。 例如，当您使用 `+` 运算符将两个数字相加时，将在内部调用`__add__()`方法。"
   ]
  },
  {
   "cell_type": "code",
   "execution_count": 17,
   "id": "e9dd5995",
   "metadata": {
    "ExecuteTime": {
     "end_time": "2023-03-01T11:46:01.836560Z",
     "start_time": "2023-03-01T11:46:01.831714Z"
    }
   },
   "outputs": [
    {
     "name": "stdout",
     "output_type": "stream",
     "text": [
      "15\n",
      "15\n"
     ]
    }
   ],
   "source": [
    "num=10\n",
    "res = num + 5\n",
    "print(res)\n",
    "\n",
    "# 实际上进行的是：\n",
    "res2 = num.__add__(5) # num + 5 背后的方法\n",
    "print(res2)"
   ]
  },
  {
   "cell_type": "markdown",
   "id": "b4e8a6a7",
   "metadata": {},
   "source": [
    "如果想让你自定义的类支持这些运算符，你需要实现相应的Dunder方法。\n",
    "\n",
    "让我们看看如何实现和使用一些重要的Dunder方法。\n",
    "`__new__() `：Java 和 C# 等语言使用 `new` 运算符来创建类的新实例。在 Python 中，魔术方法`__new__()`在方法`__init__()`之前隐式调用。`__new__()`方法返回一个新对象，然后由`__init__()`初始化。"
   ]
  },
  {
   "cell_type": "code",
   "execution_count": 20,
   "id": "82c4c4b1",
   "metadata": {
    "ExecuteTime": {
     "end_time": "2023-03-01T11:47:15.273973Z",
     "start_time": "2023-03-01T11:47:15.267097Z"
    }
   },
   "outputs": [
    {
     "name": "stdout",
     "output_type": "stream",
     "text": [
      "__new__ magic method is called\n",
      "__init__ magic method is called\n"
     ]
    }
   ],
   "source": [
    "class Employee:\n",
    "    def __new__(cls):\n",
    "        print (\"__new__ magic method is called\")\n",
    "        inst = object.__new__(cls)\n",
    "        return inst\n",
    "    def __init__(self):\n",
    "        print (\"__init__ magic method is called\")\n",
    "        self.name='Satya'\n",
    "\n",
    "\n",
    "emp = Employee()"
   ]
  },
  {
   "cell_type": "markdown",
   "id": "7a73cd26",
   "metadata": {},
   "source": [
    "可以看到`__new__()`方法在`__init__()`方法之前被调用。\n",
    ">注：通常不需要修改`__new__`方法。只有在元编程时会涉及。"
   ]
  },
  {
   "cell_type": "markdown",
   "id": "836d5576",
   "metadata": {},
   "source": [
    "`__str__()`:\n",
    "另一个有用的魔术方法是`__str__()`。重写该方法以返回自定义类的可打印字符串表示形式。 \n",
    "例如，`str(12)`返回`“12”`。调用时，它会调用 `int` 类中的`__str__()`方法"
   ]
  },
  {
   "cell_type": "code",
   "execution_count": 21,
   "id": "db58faf7",
   "metadata": {
    "ExecuteTime": {
     "end_time": "2023-03-01T11:48:10.686483Z",
     "start_time": "2023-03-01T11:48:10.680630Z"
    }
   },
   "outputs": [
    {
     "name": "stdout",
     "output_type": "stream",
     "text": [
      "12\n",
      "12\n"
     ]
    }
   ],
   "source": [
    "num=12\n",
    "print(str(num))\n",
    "#This is equivalent to\n",
    "print(int.__str__(num))"
   ]
  },
  {
   "cell_type": "markdown",
   "id": "7fec65d1",
   "metadata": {},
   "source": [
    "通过重写自定义类中的`__str__`方法，获得对象的更好表示（而不是默认的内存地址）："
   ]
  },
  {
   "cell_type": "code",
   "execution_count": 27,
   "id": "eb13a194",
   "metadata": {
    "ExecuteTime": {
     "end_time": "2023-03-01T11:49:50.060911Z",
     "start_time": "2023-03-01T11:49:50.056000Z"
    }
   },
   "outputs": [
    {
     "name": "stdout",
     "output_type": "stream",
     "text": [
      "<class '__main__.EmployeeNoStr'>\n",
      "==========================================\n",
      "name=Swati salary=$10000\n"
     ]
    }
   ],
   "source": [
    "class EmployeeNoStr:\n",
    "    def __init__(self):\n",
    "        self.name='Swati'\n",
    "        self.salary=10000\n",
    "    \n",
    "\n",
    "ep0= EmployeeNoStr\n",
    "print(ep0)\n",
    "print(\"=\"*42)\n",
    "\n",
    "\n",
    "class Employee:\n",
    "    def __init__(self):\n",
    "        self.name='Swati'\n",
    "        self.salary=10000\n",
    "    def __str__(self):\n",
    "        return 'name='+self.name+' salary=$'+str(self.salary)\n",
    "    \n",
    "\n",
    "ep1 = Employee()\n",
    "print(ep1)"
   ]
  },
  {
   "cell_type": "markdown",
   "id": "7e220f53",
   "metadata": {},
   "source": [
    "## 参考链接：\n",
    "1. https://docs.python.org/zh-cn/3/tutorial/classes.html#inheritance\n",
    "2. https://realpython.com/python3-object-oriented-programming/\n",
    "3. 继承：https://www.w3schools.com/python/python_inheritance.asp\n",
    "4. Dunder: https://www.tutorialsteacher.com/python/magic-methods-in-python\n",
    "5. 《流畅的Python》第19章"
   ]
  },
  {
   "cell_type": "code",
   "execution_count": null,
   "id": "d37e3e0f",
   "metadata": {},
   "outputs": [],
   "source": []
  }
 ],
 "metadata": {
  "kernelspec": {
   "display_name": "Python 3 (ipykernel)",
   "language": "python",
   "name": "python3"
  },
  "language_info": {
   "codemirror_mode": {
    "name": "ipython",
    "version": 3
   },
   "file_extension": ".py",
   "mimetype": "text/x-python",
   "name": "python",
   "nbconvert_exporter": "python",
   "pygments_lexer": "ipython3",
   "version": "3.8.13"
  },
  "vp": {
   "vp_config_version": "1.0.0",
   "vp_menu_width": 273,
   "vp_note_display": false,
   "vp_note_width": 0,
   "vp_position": {
    "width": 278
   },
   "vp_section_display": true,
   "vp_signature": "VisualPython"
  }
 },
 "nbformat": 4,
 "nbformat_minor": 5
}
