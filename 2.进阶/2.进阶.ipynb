{
 "cells": [
  {
   "cell_type": "markdown",
   "id": "802cbae9",
   "metadata": {},
   "source": [
    "# 1. OOP\n"
   ]
  },
  {
   "cell_type": "markdown",
   "id": "c5f28006",
   "metadata": {},
   "source": [
    "在 Python 中，面向对象编程 (object-oriented Programming, OOP) 是一种在编程中使用**对象和类**的编程范例。 它旨在在编程中**实现现实世界的实体**，如**继承、多态、封装**等。 OOP 的主要概念是将**数据和处理该数据的函数**作为一个单元绑定在一起，这样代码的其他部分就无法访问该数据。"
   ]
  },
  {
   "cell_type": "markdown",
   "id": "e9bf0300",
   "metadata": {},
   "source": [
    "## 1.1 类(Classes)\n",
    "类可以看成两部分，数据+处理数据的函数。我们把数据称为**属性**，处理数据的函数称为**方法**。`类=属性+方法`。 \n",
    "\n",
    "**定义类**用关键字`class`："
   ]
  },
  {
   "cell_type": "code",
   "execution_count": 1,
   "id": "c0d5d6b2",
   "metadata": {
    "ExecuteTime": {
     "end_time": "2023-03-01T11:31:53.411074Z",
     "start_time": "2023-03-01T11:31:53.407168Z"
    }
   },
   "outputs": [],
   "source": [
    "class Dog:\n",
    "    pass"
   ]
  },
  {
   "cell_type": "markdown",
   "id": "f318a439",
   "metadata": {},
   "source": [
    "然后我们可以为类添加**初始化方法`__init__`**："
   ]
  },
  {
   "cell_type": "code",
   "execution_count": 2,
   "id": "fa7cc5b2",
   "metadata": {
    "ExecuteTime": {
     "end_time": "2023-03-01T11:32:00.787258Z",
     "start_time": "2023-03-01T11:32:00.782377Z"
    }
   },
   "outputs": [],
   "source": [
    "class Dog:\n",
    "    def __init__(self, name, age):\n",
    "        self.name = name\n",
    "        self.age = age"
   ]
  },
  {
   "cell_type": "markdown",
   "id": "c9abc4e0",
   "metadata": {},
   "source": [
    "通常在初始化方法中设置**属性**。\n",
    "`self.xx`的属性称为**实例属性(instance attribute)**，和实例绑定；与之相对的是**类属性(Class attribute)**，和类绑定。\n",
    ">如果同样的属性名称同时出现在实例和类中，则属性查找会**优先选择实例**:"
   ]
  },
  {
   "cell_type": "code",
   "execution_count": 3,
   "id": "a08aee2e",
   "metadata": {
    "ExecuteTime": {
     "end_time": "2023-03-01T11:32:41.720968Z",
     "start_time": "2023-03-01T11:32:41.716089Z"
    }
   },
   "outputs": [],
   "source": [
    "class Dog:\n",
    "    # Class attribute\n",
    "    species = \"Canis familiaris\"\n",
    "\n",
    "    def __init__(self, name, age):\n",
    "        self.name = name\n",
    "        self.age = age"
   ]
  },
  {
   "cell_type": "markdown",
   "id": "420ffdb0",
   "metadata": {},
   "source": [
    "下面来使用类。只需要使用类名`Dog`就会自动调用相应的初始化方法`__init__`创建类的实例。"
   ]
  },
  {
   "cell_type": "code",
   "execution_count": 4,
   "id": "361ee3d7",
   "metadata": {
    "ExecuteTime": {
     "end_time": "2023-03-01T11:34:34.243363Z",
     "start_time": "2023-03-01T11:34:34.238483Z"
    }
   },
   "outputs": [
    {
     "name": "stdout",
     "output_type": "stream",
     "text": [
      "Buddy 9\n"
     ]
    }
   ],
   "source": [
    "buddy = Dog(\"Buddy\", 9)\n",
    "miles = Dog(\"Miles\", 4)\n",
    "print(buddy.name, buddy.age)"
   ]
  },
  {
   "cell_type": "markdown",
   "id": "6d8a4255",
   "metadata": {},
   "source": [
    "**实例方法：**\n",
    "实例方法是在类中定义的函数，只能从该类的实例调用。就像`.__init__()` ，实例方法的第一个参数始终是`self` (代表实例对象)。"
   ]
  },
  {
   "cell_type": "code",
   "execution_count": 5,
   "id": "ef2b806a",
   "metadata": {
    "ExecuteTime": {
     "end_time": "2023-03-01T11:35:01.877578Z",
     "start_time": "2023-03-01T11:35:01.872657Z"
    }
   },
   "outputs": [],
   "source": [
    "class Dog:\n",
    "    species = \"Canis familiaris\"\n",
    "\n",
    "    def __init__(self, name, age):\n",
    "        self.name = name\n",
    "        self.age = age\n",
    "\n",
    "    # Instance method\n",
    "    def description(self):\n",
    "        return f\"{self.name} is {self.age} years old\"\n",
    "\n",
    "    # Another instance method\n",
    "    def speak(self, sound):\n",
    "        return f\"{self.name} says {sound}\""
   ]
  },
  {
   "cell_type": "code",
   "execution_count": 6,
   "id": "19418eec",
   "metadata": {
    "ExecuteTime": {
     "end_time": "2023-03-01T11:35:10.190973Z",
     "start_time": "2023-03-01T11:35:10.178251Z"
    }
   },
   "outputs": [
    {
     "data": {
      "text/plain": [
       "'Miles is 4 years old'"
      ]
     },
     "execution_count": 6,
     "metadata": {},
     "output_type": "execute_result"
    }
   ],
   "source": [
    "miles = Dog(\"Miles\", 4)\n",
    "miles.description()\n",
    "miles.speak(\"Woof Woof\")\n",
    "miles.speak(\"Bow Wow\")"
   ]
  },
  {
   "cell_type": "markdown",
   "id": "9925c139",
   "metadata": {},
   "source": [
    "## 1.2 继承"
   ]
  },
  {
   "cell_type": "markdown",
   "id": "4421ac69",
   "metadata": {},
   "source": [
    "继承是一个类继承另一个类的属性和方法的过程。新形成的类称为子类，子类派生自的类称为父类。\n",
    "**继承的语法：**"
   ]
  },
  {
   "cell_type": "code",
   "execution_count": 9,
   "id": "7784f254",
   "metadata": {
    "ExecuteTime": {
     "end_time": "2023-03-01T11:36:41.194765Z",
     "start_time": "2023-03-01T11:36:41.189885Z"
    }
   },
   "outputs": [],
   "source": [
    "class BaseClass:\n",
    "    ...\n",
    "\n",
    "# 继承BaseClass\n",
    "class DerivedClass(BaseClass):\n",
    "    ..."
   ]
  },
  {
   "cell_type": "markdown",
   "id": "8ac2da9a",
   "metadata": {},
   "source": [
    "子类拥有父类的属性和方法，并且可以使用 `super()`从子类的方法内部访问父类。\n",
    "\n",
    "除了继承父类的属性和方法，子类还可以有自己特有的属性和方法（扩展），以及重写父类的属性和方法（同名覆盖）。\n",
    "下面是一个例子：\n",
    "首先定义一个`Dog`作为基类："
   ]
  },
  {
   "cell_type": "code",
   "execution_count": 10,
   "id": "acd728b3",
   "metadata": {
    "ExecuteTime": {
     "end_time": "2023-03-01T11:36:55.399114Z",
     "start_time": "2023-03-01T11:36:55.392247Z"
    }
   },
   "outputs": [],
   "source": [
    "class Dog:\n",
    "    species = \"Canis familiaris\"\n",
    "\n",
    "    def __init__(self, name, age):\n",
    "        self.name = name\n",
    "        self.age = age\n",
    "\n",
    "    def __str__(self):\n",
    "        return f\"{self.name} is {self.age} years old\"\n",
    "\n",
    "    def speak(self, sound):\n",
    "        return f\"{self.name} says {sound}\""
   ]
  },
  {
   "cell_type": "markdown",
   "id": "1616ff66",
   "metadata": {},
   "source": [
    "然后从Dog创建不同种类的Dog:"
   ]
  },
  {
   "cell_type": "code",
   "execution_count": 12,
   "id": "af172727",
   "metadata": {
    "ExecuteTime": {
     "end_time": "2023-03-01T11:42:10.911472Z",
     "start_time": "2023-03-01T11:42:10.904640Z"
    }
   },
   "outputs": [
    {
     "data": {
      "text/plain": [
       "'dgg says Arf'"
      ]
     },
     "execution_count": 12,
     "metadata": {},
     "output_type": "execute_result"
    }
   ],
   "source": [
    "class JackRussellTerrier(Dog):\n",
    "    def speak(self, sound=\"Arf\"):\n",
    "        return super().speak(sound)\n",
    "\n",
    "class Dachshund(Dog):\n",
    "    pass\n",
    "\n",
    "class Bulldog(Dog):\n",
    "    pass\n",
    "\n",
    "jrt = JackRussellTerrier('dgg', 2)\n",
    "jrt.speak()"
   ]
  },
  {
   "cell_type": "markdown",
   "id": "10f7876a",
   "metadata": {},
   "source": [
    "### 多继承\n",
    "Python也支持多继承：\n",
    "```py\n",
    "class DerivedClassName(Base1, Base2, Base3):\n",
    "    ...\n",
    "```\n",
    "\n",
    "一般情况下，可以认为搜索从父类所继承属性的操作是**深度优先、从左至右**的，当层次结构中存在重叠时不会在同一个类中搜索两次。 因此，如果某一属性在 DerivedClassName 中未找到，则会到 Base1 中搜索它，然后（递归地）到 Base1 的基类中搜索，如果在那里未找到，再到 Base2 中搜索，依此类推。\n",
    "\n",
    "\n",
    ">tips：\n",
    "Python有两个内置函数可被用于继承机制：\n",
    "使用 `isinstance()`来检查一个实例的类型: `isinstance(obj, int)` 仅会在 `obj.__class__` 为 int 或某个派生自 int 的类时为 True。\n",
    "使用 `issubclass()` 来检查类的继承关系: `issubclass(bool, int)` 为 True，因为 bool 是 int 的子类。 但是，`issubclass(float, int)` 为 False，因为 float 不是 int 的子类。"
   ]
  },
  {
   "cell_type": "markdown",
   "id": "96fee826",
   "metadata": {},
   "source": [
    "## 1.3 Methods, Dunder\n",
    "### Medhod\n",
    "python 中的方法(method)类似于函数(function)，只是它与对象/类相关联。 python中的方法与函数的两个主要区别：\n",
    "1. 该方法隐式用于调用它的对象。\n",
    "2. 该方法可以访问类中包含的数据。\n",
    "\n",
    "普通的函数："
   ]
  },
  {
   "cell_type": "code",
   "execution_count": 13,
   "id": "b00374f2",
   "metadata": {
    "ExecuteTime": {
     "end_time": "2023-03-01T11:43:49.253658Z",
     "start_time": "2023-03-01T11:43:49.248779Z"
    }
   },
   "outputs": [
    {
     "name": "stdout",
     "output_type": "stream",
     "text": [
      "55\n"
     ]
    }
   ],
   "source": [
    "def sum(num1, num2):\n",
    "   return (num1 + num2)\n",
    "\n",
    "print(sum(22,33))"
   ]
  },
  {
   "cell_type": "markdown",
   "id": "a4badec2",
   "metadata": {},
   "source": [
    "方法："
   ]
  },
  {
   "cell_type": "code",
   "execution_count": 14,
   "id": "ea4d4f5f",
   "metadata": {
    "ExecuteTime": {
     "end_time": "2023-03-01T11:44:09.331109Z",
     "start_time": "2023-03-01T11:44:09.326238Z"
    }
   },
   "outputs": [
    {
     "name": "stdout",
     "output_type": "stream",
     "text": [
      "I am a Cat\n"
     ]
    }
   ],
   "source": [
    "class Pet(object):\n",
    "   def my_method(self):\n",
    "      print(\"I am a Cat\")\n",
    "cat = Pet()\n",
    "cat.my_method()"
   ]
  },
  {
   "cell_type": "markdown",
   "id": "814a3c9c",
   "metadata": {},
   "source": [
    "简而言之，方法是属于对象的函数。"
   ]
  },
  {
   "cell_type": "markdown",
   "id": "a5e847c3",
   "metadata": {},
   "source": [
    "### Dunder\n",
    "Python中的 `Dunder`或魔术方法是在方法名称中具有两个前缀和后缀下划线的方法。 Dunder 这里的意思是“Double Under（双下划线）”。 这些通常用于运算符重载。 Dunder方法的几个例子是：`__init__`、`__add__`、`__len__`、`__repr__` 等。\n",
    "\n",
    "Dunder方法并不意味着由您直接调用，但调用发生在类内部的特定操作上。 例如，当您使用 `+` 运算符将两个数字相加时，将在内部调用`__add__()`方法。"
   ]
  },
  {
   "cell_type": "code",
   "execution_count": 17,
   "id": "e9dd5995",
   "metadata": {
    "ExecuteTime": {
     "end_time": "2023-03-01T11:46:01.836560Z",
     "start_time": "2023-03-01T11:46:01.831714Z"
    }
   },
   "outputs": [
    {
     "name": "stdout",
     "output_type": "stream",
     "text": [
      "15\n",
      "15\n"
     ]
    }
   ],
   "source": [
    "num=10\n",
    "res = num + 5\n",
    "print(res)\n",
    "\n",
    "# 实际上进行的是：\n",
    "res2 = num.__add__(5) # num + 5 背后的方法\n",
    "print(res2)"
   ]
  },
  {
   "cell_type": "markdown",
   "id": "b4e8a6a7",
   "metadata": {},
   "source": [
    "如果想让你自定义的类支持这些运算符，你需要实现相应的Dunder方法。\n",
    "\n",
    "让我们看看如何实现和使用一些重要的Dunder方法。\n",
    "`__new__() `：Java 和 C# 等语言使用 `new` 运算符来创建类的新实例。在 Python 中，魔术方法`__new__()`在方法`__init__()`之前隐式调用。`__new__()`方法返回一个新对象，然后由`__init__()`初始化。"
   ]
  },
  {
   "cell_type": "code",
   "execution_count": 20,
   "id": "82c4c4b1",
   "metadata": {
    "ExecuteTime": {
     "end_time": "2023-03-01T11:47:15.273973Z",
     "start_time": "2023-03-01T11:47:15.267097Z"
    }
   },
   "outputs": [
    {
     "name": "stdout",
     "output_type": "stream",
     "text": [
      "__new__ magic method is called\n",
      "__init__ magic method is called\n"
     ]
    }
   ],
   "source": [
    "class Employee:\n",
    "    def __new__(cls):\n",
    "        print (\"__new__ magic method is called\")\n",
    "        inst = object.__new__(cls)\n",
    "        return inst\n",
    "    def __init__(self):\n",
    "        print (\"__init__ magic method is called\")\n",
    "        self.name='Satya'\n",
    "\n",
    "\n",
    "emp = Employee()"
   ]
  },
  {
   "cell_type": "markdown",
   "id": "7a73cd26",
   "metadata": {},
   "source": [
    "可以看到`__new__()`方法在`__init__()`方法之前被调用。\n",
    ">注：通常不需要修改`__new__`方法。只有在元编程时会涉及。"
   ]
  },
  {
   "cell_type": "markdown",
   "id": "836d5576",
   "metadata": {},
   "source": [
    "`__str__()`:\n",
    "另一个有用的魔术方法是`__str__()`。重写该方法以返回自定义类的可打印字符串表示形式。 \n",
    "例如，`str(12)`返回`“12”`。调用时，它会调用 `int` 类中的`__str__()`方法"
   ]
  },
  {
   "cell_type": "code",
   "execution_count": 21,
   "id": "db58faf7",
   "metadata": {
    "ExecuteTime": {
     "end_time": "2023-03-01T11:48:10.686483Z",
     "start_time": "2023-03-01T11:48:10.680630Z"
    }
   },
   "outputs": [
    {
     "name": "stdout",
     "output_type": "stream",
     "text": [
      "12\n",
      "12\n"
     ]
    }
   ],
   "source": [
    "num=12\n",
    "print(str(num))\n",
    "#This is equivalent to\n",
    "print(int.__str__(num))"
   ]
  },
  {
   "cell_type": "markdown",
   "id": "7fec65d1",
   "metadata": {},
   "source": [
    "通过重写自定义类中的`__str__`方法，获得对象的更好表示（而不是默认的内存地址）："
   ]
  },
  {
   "cell_type": "code",
   "execution_count": 27,
   "id": "eb13a194",
   "metadata": {
    "ExecuteTime": {
     "end_time": "2023-03-01T11:49:50.060911Z",
     "start_time": "2023-03-01T11:49:50.056000Z"
    }
   },
   "outputs": [
    {
     "name": "stdout",
     "output_type": "stream",
     "text": [
      "<class '__main__.EmployeeNoStr'>\n",
      "==========================================\n",
      "name=Swati salary=$10000\n"
     ]
    }
   ],
   "source": [
    "class EmployeeNoStr:\n",
    "    def __init__(self):\n",
    "        self.name='Swati'\n",
    "        self.salary=10000\n",
    "    \n",
    "\n",
    "ep0= EmployeeNoStr\n",
    "print(ep0)\n",
    "print(\"=\"*42)\n",
    "\n",
    "\n",
    "class Employee:\n",
    "    def __init__(self):\n",
    "        self.name='Swati'\n",
    "        self.salary=10000\n",
    "    def __str__(self):\n",
    "        return 'name='+self.name+' salary=$'+str(self.salary)\n",
    "    \n",
    "\n",
    "ep1 = Employee()\n",
    "print(ep1)"
   ]
  },
  {
   "cell_type": "markdown",
   "id": "7e220f53",
   "metadata": {},
   "source": [
    "## 参考链接：\n",
    "1. https://docs.python.org/zh-cn/3/tutorial/classes.html#inheritance\n",
    "2. https://realpython.com/python3-object-oriented-programming/\n",
    "3. 继承：https://www.w3schools.com/python/python_inheritance.asp\n",
    "4. Dunder: https://www.tutorialsteacher.com/python/magic-methods-in-python\n",
    "5. 《流畅的Python》第19章"
   ]
  },
  {
   "cell_type": "markdown",
   "id": "d066de9f",
   "metadata": {},
   "source": [
    "# 2. 迭代器 Iterators\n",
    "迭代器是包含可数个值的对象。可以通过遍历访问其中的元素。\n",
    "\n",
    "可以用for循环遍历迭代器：\n",
    "```py\n",
    "for char in \"123\":\n",
    "    print(char)\n",
    "```\n",
    "在幕后，for 语句会在容器对象上调用`iter()`。 该函数返回一个定义了`__next__()`方法的迭代器对象，此方法将逐一访问容器中的元素：\n",
    ">常用的字符串、列表、字典都是可迭代对象(iterable)。可迭代对象实现了`__iter__`方法，返回一个迭代器。也就是说，可迭代对象自己不实现迭代方法，而是委托另一个类来实现。"
   ]
  },
  {
   "cell_type": "code",
   "execution_count": 2,
   "id": "1f28ad30",
   "metadata": {
    "ExecuteTime": {
     "end_time": "2023-03-02T11:08:58.493130Z",
     "start_time": "2023-03-02T11:08:58.459017Z"
    }
   },
   "outputs": [
    {
     "name": "stdout",
     "output_type": "stream",
     "text": [
      "<str_iterator object at 0x00000267A24F1670>\n",
      "a\n",
      "b\n",
      "c\n"
     ]
    },
    {
     "ename": "StopIteration",
     "evalue": "",
     "output_type": "error",
     "traceback": [
      "\u001b[1;31m---------------------------------------------------------------------------\u001b[0m",
      "\u001b[1;31mStopIteration\u001b[0m                             Traceback (most recent call last)",
      "Input \u001b[1;32mIn [2]\u001b[0m, in \u001b[0;36m<cell line: 11>\u001b[1;34m()\u001b[0m\n\u001b[0;32m      9\u001b[0m \u001b[38;5;28mprint\u001b[39m(\u001b[38;5;28mnext\u001b[39m(it))\n\u001b[0;32m     10\u001b[0m \u001b[38;5;66;03m#'c'\u001b[39;00m\n\u001b[1;32m---> 11\u001b[0m \u001b[38;5;28mprint\u001b[39m(\u001b[38;5;28;43mnext\u001b[39;49m\u001b[43m(\u001b[49m\u001b[43mit\u001b[49m\u001b[43m)\u001b[49m)\n",
      "\u001b[1;31mStopIteration\u001b[0m: "
     ]
    }
   ],
   "source": [
    "s = 'abc'\n",
    "it = iter(s) # iter()返回迭代器\n",
    "print(it)\n",
    "#<str_iterator object at 0x10c90e650>\n",
    "print(next(it))\n",
    "#'a'\n",
    "print(next(it))\n",
    "#'b'\n",
    "print(next(it))\n",
    "#'c'\n",
    "print(next(it)) # 在元素用尽时`raise StopIteration`，来终止for循环继续遍历。"
   ]
  },
  {
   "cell_type": "markdown",
   "id": "9399464d",
   "metadata": {},
   "source": [
    "想自定义一个迭代器，只需要实现这两个方法`__iter__`和`__next__`："
   ]
  },
  {
   "cell_type": "code",
   "execution_count": 8,
   "id": "9fda10c9",
   "metadata": {
    "ExecuteTime": {
     "end_time": "2023-03-02T11:11:12.510968Z",
     "start_time": "2023-03-02T11:11:12.502022Z"
    }
   },
   "outputs": [
    {
     "name": "stdout",
     "output_type": "stream",
     "text": [
      "[1, 2, 3, 4, 5]\n",
      "[5, 4, 3, 2, 1]\n"
     ]
    }
   ],
   "source": [
    "class Reverse:\n",
    "    \"\"\"Iterator for looping over a sequence backwards.\"\"\"\n",
    "    def __init__(self, data):\n",
    "        self.data = data\n",
    "        self.index = len(data)\n",
    "\n",
    "    def __iter__(self):\n",
    "        return self\n",
    "\n",
    "    def __next__(self):\n",
    "        if self.index == 0:\n",
    "            raise StopIteration  #在元素用尽时`raise StopIteration`，来终止for循环继续遍历。\n",
    "        self.index = self.index - 1\n",
    "        return self.data[self.index]\n",
    "\n",
    "data = [1,2,3,4,5]\n",
    "print(data)\n",
    "reverse_lst = Reverse(data)\n",
    "print(list(reverse_lst))"
   ]
  },
  {
   "cell_type": "markdown",
   "id": "4c3039bb",
   "metadata": {},
   "source": [
    "## 参考链接\n",
    "1. https://docs.python.org/zh-cn/3/tutorial/classes.html#iterators"
   ]
  },
  {
   "cell_type": "markdown",
   "id": "ab6e7461",
   "metadata": {},
   "source": [
    "# 3. 正则(RegEx) （建议略读）\n",
    "## 正则简介\n",
    "正则表达式是一种用于匹配文本模式的强大语言。Python的`re`模块提供了对正则的支持。\n",
    "Python 中的正则表达式搜索通常编写为：\n",
    "`match = re.search(pat, str)`\n",
    "`re.search()` 的2个参数是`正则表达式格式`和`字符串`，将在字符串中搜索该格式。如果搜索成功，返回 `match` 对象，否则将返回 `None`。"
   ]
  },
  {
   "cell_type": "code",
   "execution_count": 9,
   "id": "2f526516",
   "metadata": {
    "ExecuteTime": {
     "end_time": "2023-03-02T11:12:47.773000Z",
     "start_time": "2023-03-02T11:12:47.766170Z"
    }
   },
   "outputs": [
    {
     "name": "stdout",
     "output_type": "stream",
     "text": [
      "found word:cat\n"
     ]
    }
   ],
   "source": [
    "import re\n",
    "\n",
    "str = 'an example word:cat!!'\n",
    "match = re.search(r'word:\\w\\w\\w', str)\n",
    "# If-statement after search() tests if it succeeded\n",
    "if match:\n",
    "  print('found', match.group()) ## 'found word:cat'\n",
    "else:\n",
    "  print('did not find')"
   ]
  },
  {
   "cell_type": "markdown",
   "id": "e83630a7",
   "metadata": {},
   "source": [
    "搜索成功时，`match.group()` 为匹配文本（例如“word:cat”）。\n",
    "\n",
    "模式字符串开头的`r`指定了 Python “raw”字符串，该字符串无需更改即可传递反斜杠，这对于正则表达式非常有用。作为习惯，建议您始终使用`r`来编写模式字符串。"
   ]
  },
  {
   "cell_type": "markdown",
   "id": "6c5dce04",
   "metadata": {},
   "source": [
    "## 基本模式\n",
    "正则表达式的优势在于它们可以指定模式，而不仅仅是固定字符。以下是匹配单个字符的最基本模式：\n",
    "\n",
    "`a、X、9、< -` ：普通字符只与自身匹配。这些字符与自身不匹配的元字符有以下特殊含义：`^ $ * + ? { [ ] \\ | ( )`（详见下文）\n",
    "`.`(英文句点)：- 与除换行符`\\n`以外的任何单个字符匹配\n",
    "`\\w`：匹配“字词”字符：字母、数字或下划线 `[a-zA-Z0-9_]`。请注意，尽管“word”是此助记词，但它仅匹配**单个字符**，而不是整个字词。`\\W`匹配任何非字词字符。\n",
    "`\\b`: 字词和非字词之间的边界\n",
    "`\\s`：匹配单个空白字符，包括空格、换行符、return、制表符、表单 `[\\n\\r\\t\\f]`。`\\S`：匹配任何非空格字符。\n",
    "`\\t, \\n, gRPC`： 制表符, 换行符, 返回\n",
    "`\\d`： 十进制数字 `[0-9]`（某些旧的正则表达式实用程序不支持 `\\d`，但它们都支持 `\\w` 和 `\\s`）\n",
    "`^ = start、$ = end`：与字符串的开头或结尾匹配\n",
    "`\\`： 抑制某个字符的“特殊性”。例如，使用 `\\.` 来匹配句点或使用 `\\\\` 来匹配斜杠。如果您不确定某个字符是否具有特殊含义（例如“@”），则可尝试在其前面添加斜杠 `\\@`。如果此字符不是有效的转义序列（例如 `\\c`），则您的 Python 程序将因出现错误而停止。"
   ]
  },
  {
   "cell_type": "markdown",
   "id": "8ac8ed55",
   "metadata": {},
   "source": [
    "## 基本示例\n",
    "正则表达式在字符串中搜索模式的基本规则如下：\n",
    "- 搜索从头至尾依次完成整个字符串，在找到的第一个匹配项处停止。\n",
    "- 所有模式都必须匹配，但并非整个字符串都匹配\n",
    "- 如果 match = re.search(pat, str)匹配成功，则match.group()是匹配文本"
   ]
  },
  {
   "cell_type": "code",
   "execution_count": 10,
   "id": "726d29d1",
   "metadata": {
    "ExecuteTime": {
     "end_time": "2023-03-02T11:13:43.730499Z",
     "start_time": "2023-03-02T11:13:43.722692Z"
    }
   },
   "outputs": [],
   "source": [
    "## Search for pattern 'iii' in string 'piiig'.\n",
    "## All of the pattern must match, but it may appear anywhere.\n",
    "## On success, match.group() is matched text.\n",
    "match = re.search(r'iii', 'piiig') # found, match.group() == \"iii\"\n",
    "match = re.search(r'igs', 'piiig') # not found, match == None\n",
    "\n",
    "## . = any char but \\n\n",
    "match = re.search(r'..g', 'piiig') # found, match.group() == \"iig\"\n",
    "\n",
    "## \\d = digit char, \\w = word char\n",
    "match = re.search(r'\\d\\d\\d', 'p123g') # found, match.group() == \"123\"\n",
    "match = re.search(r'\\w\\w\\w', '@@abcd!!') # found, match.group() == \"abc\""
   ]
  },
  {
   "cell_type": "markdown",
   "id": "c4bcbc96",
   "metadata": {},
   "source": [
    "**重复**\n",
    "使用 `+` 和 `*` 指定模式重复时，情况会变得更加有趣\n",
    "\n",
    "`+` ：其左侧出现一次或多次模式，例如`i+` 匹配`i`的一次或多次\n",
    "`*` ：其左侧出现 0 次或多次该模式\n",
    "`?` ： 将模式左侧的 0 次或 1 次模式与其匹配\n",
    "\n",
    "匹配时首先搜索查找模式的**最左边**的匹配，其次尝试**尽可能多**地使用字符串。\n",
    "例如`match = re.search(r'i+', 'piigiiii') # found, match.group() == \"ii\"`\n",
    "匹配优先左左边的`i`，然后尽可能让匹配的字符串长，因此i和ii都匹配时，结果为`ii`。"
   ]
  },
  {
   "cell_type": "code",
   "execution_count": 11,
   "id": "fcaabf32",
   "metadata": {
    "ExecuteTime": {
     "end_time": "2023-03-02T11:14:27.275919Z",
     "start_time": "2023-03-02T11:14:27.267455Z"
    }
   },
   "outputs": [],
   "source": [
    "## i+ = one or more i's, as many as possible.\n",
    "match = re.search(r'pi+', 'piiig') # found, match.group() == \"piii\"\n",
    "\n",
    "## Finds the first/leftmost solution, and within it drives the +\n",
    "## as far as possible (aka 'leftmost and largest').\n",
    "## In this example, note that it does not get to the second set of i's.\n",
    "match = re.search(r'i+', 'piigiiii') # found, match.group() == \"ii\"\n",
    "\n",
    "## \\s* = zero or more whitespace chars\n",
    "## Here look for 3 digits, possibly separated by whitespace.\n",
    "match = re.search(r'\\d\\s*\\d\\s*\\d', 'xx1 2   3xx') # found, match.group() == \"1 2   3\"\n",
    "match = re.search(r'\\d\\s*\\d\\s*\\d', 'xx12  3xx') # found, match.group() == \"12  3\"\n",
    "match = re.search(r'\\d\\s*\\d\\s*\\d', 'xx123xx') # found, match.group() == \"123\"\n",
    "\n",
    "## ^ = matches the start of string, so this fails:\n",
    "match = re.search(r'^b\\w+', 'foobar') # not found, match == None\n",
    "## but without the ^ it succeeds:\n",
    "match = re.search(r'b\\w+', 'foobar') # found, match.group() == \"bar\""
   ]
  },
  {
   "cell_type": "markdown",
   "id": "d4524fd7",
   "metadata": {},
   "source": [
    "## 电子邮件示例\n",
    "假设您要查找字符串`'purple alice-b@google.com monkey dishwasher'`中的电子邮件地址。"
   ]
  },
  {
   "cell_type": "code",
   "execution_count": 12,
   "id": "4944489c",
   "metadata": {
    "ExecuteTime": {
     "end_time": "2023-03-02T11:14:43.102271Z",
     "start_time": "2023-03-02T11:14:43.094463Z"
    }
   },
   "outputs": [
    {
     "name": "stdout",
     "output_type": "stream",
     "text": [
      "b@google\n"
     ]
    }
   ],
   "source": [
    "str = 'purple alice-b@google.com monkey dishwasher'\n",
    "match = re.search(r'\\w+@\\w+', str)\n",
    "if match:\n",
    "    print(match.group())  ## 'b@google'"
   ]
  },
  {
   "cell_type": "markdown",
   "id": "4642dc3f",
   "metadata": {},
   "source": [
    "这种情况下，搜索不会获取完整的电子邮件地址，因为 `\\w` 与地址中的`-`和`.`不匹配。我们将使用以下正则表达式功能解决此问题。\n",
    "**方括号**\n",
    "方括号可用于指示一组字符，因此 [abc] 可以匹配“a”、“b”或“c”。代码 `\\w`、`\\s` 等也适用于方括号，但方括号`.` 只表示一个点（而不是通配符）。对于电子邮件问题，您可以通过方括号轻松将“.”和“-”添加到一组字符中，字符前后可以加上 r'[\\w--]+@[\\w.-]+'，以获取完整的电子邮件地址："
   ]
  },
  {
   "cell_type": "code",
   "execution_count": 13,
   "id": "6e4aa01d",
   "metadata": {
    "ExecuteTime": {
     "end_time": "2023-03-02T11:15:02.530083Z",
     "start_time": "2023-03-02T11:15:02.523247Z"
    }
   },
   "outputs": [
    {
     "name": "stdout",
     "output_type": "stream",
     "text": [
      "alice-b@google.com\n"
     ]
    }
   ],
   "source": [
    "match = re.search(r'[\\w.-]+@[\\w.-]+', str)\n",
    "if match:\n",
    "    print(match.group())  ## 'alice-b@google.com'"
   ]
  },
  {
   "cell_type": "markdown",
   "id": "fe6dfaa0",
   "metadata": {},
   "source": [
    "（更多方括号功能）您还可以使用短划线来指示范围，如 `[a-z]` 能够匹配所有小写字母。要在不带范围的情况下使用短划线，请将其放在最后位置，例如 `[abc-]`。方括号开头的短划线 `^` 为反转短划线，例如 `[^ab]` 表示除“a”或“b”以外的任何字符。"
   ]
  },
  {
   "cell_type": "markdown",
   "id": "578b184f",
   "metadata": {
    "ExecuteTime": {
     "end_time": "2023-03-02T11:15:21.928358Z",
     "start_time": "2023-03-02T11:15:21.918966Z"
    }
   },
   "source": [
    "## 组提取\n",
    "通过正则表达式的“组”功能，您可以挑选匹配部分的文本。假设我们想针对电子邮件问题单独提取用户名和主机。为此，请在格式的用户名和主机两边添加圆括号`()`，例如：`r'([\\w.-]+)@([\\w.-]+)'`。在这种情况下，圆括号不会改变格式，而是在匹配文本内建立逻辑“组”。如果搜索成功，`match.group(1)` 就是与第一个括号对应的匹配文本，`match.group(2)` 则是与第二个括号对应的文本。 `match.group()` 仍是完整匹配文本。"
   ]
  },
  {
   "cell_type": "code",
   "execution_count": 15,
   "id": "fafc5aa0",
   "metadata": {
    "ExecuteTime": {
     "end_time": "2023-03-02T11:15:33.651267Z",
     "start_time": "2023-03-02T11:15:33.643473Z"
    }
   },
   "outputs": [
    {
     "name": "stdout",
     "output_type": "stream",
     "text": [
      "alice-b@google.com\n",
      "alice-b\n",
      "google.com\n"
     ]
    }
   ],
   "source": [
    "str = 'purple alice-b@google.com monkey dishwasher'\n",
    "match = re.search(r'([\\w.-]+)@([\\w.-]+)', str)\n",
    "if match:\n",
    "    print(match.group())   ## 'alice-b@google.com' (the whole match)\n",
    "    print(match.group(1))  ## 'alice-b' (the username, group 1)\n",
    "    print(match.group(2))  ## 'google.com' (the host, group 2)"
   ]
  },
  {
   "cell_type": "markdown",
   "id": "ff6a2637",
   "metadata": {},
   "source": [
    "## 查找所有\n",
    "`findall()` 可能是 `re` 模块中最强大的一个函数。在上面，我们使用 `re.search()` 来查找模式的第一个匹配项。`findall()` 会查找 *所有* 匹配项，并将其作为字符串列表返回，其中每个字符串都代表一个匹配项。"
   ]
  },
  {
   "cell_type": "code",
   "execution_count": 16,
   "id": "6365e4d5",
   "metadata": {
    "ExecuteTime": {
     "end_time": "2023-03-02T11:16:00.498740Z",
     "start_time": "2023-03-02T11:16:00.489954Z"
    }
   },
   "outputs": [
    {
     "name": "stdout",
     "output_type": "stream",
     "text": [
      "alice@google.com\n",
      "bob@abc.com\n"
     ]
    }
   ],
   "source": [
    "## Suppose we have a text with many email addresses\n",
    "str = 'purple alice@google.com, blah monkey bob@abc.com blah dishwasher'\n",
    "\n",
    "## Here re.findall() returns a list of all the found email strings\n",
    "emails = re.findall(r'[\\w\\.-]+@[\\w\\.-]+', str) ## ['alice@google.com', 'bob@abc.com']\n",
    "for email in emails:\n",
    "    # do something with each found email string\n",
    "    print(email)"
   ]
  },
  {
   "cell_type": "markdown",
   "id": "319143d8",
   "metadata": {},
   "source": [
    "利用`findall()`查找文件中所有匹配的内容："
   ]
  },
  {
   "cell_type": "code",
   "execution_count": 20,
   "id": "43836026",
   "metadata": {
    "ExecuteTime": {
     "end_time": "2023-03-02T11:17:24.114475Z",
     "start_time": "2023-03-02T11:17:24.076038Z"
    },
    "collapsed": true
   },
   "outputs": [
    {
     "ename": "FileNotFoundError",
     "evalue": "[Errno 2] No such file or directory: 'test.txt'",
     "output_type": "error",
     "traceback": [
      "\u001b[1;31m---------------------------------------------------------------------------\u001b[0m",
      "\u001b[1;31mFileNotFoundError\u001b[0m                         Traceback (most recent call last)",
      "Input \u001b[1;32mIn [20]\u001b[0m, in \u001b[0;36m<cell line: 2>\u001b[1;34m()\u001b[0m\n\u001b[0;32m      1\u001b[0m \u001b[38;5;66;03m# Open file\u001b[39;00m\n\u001b[1;32m----> 2\u001b[0m f \u001b[38;5;241m=\u001b[39m \u001b[38;5;28;43mopen\u001b[39;49m\u001b[43m(\u001b[49m\u001b[38;5;124;43m'\u001b[39;49m\u001b[38;5;124;43mtest.txt\u001b[39;49m\u001b[38;5;124;43m'\u001b[39;49m\u001b[43m,\u001b[49m\u001b[43m \u001b[49m\u001b[38;5;124;43m'\u001b[39;49m\u001b[38;5;124;43mr\u001b[39;49m\u001b[38;5;124;43m'\u001b[39;49m\u001b[43m)\u001b[49m \u001b[38;5;66;03m# 注意替换成自己的文件\u001b[39;00m\n\u001b[0;32m      3\u001b[0m \u001b[38;5;66;03m# Feed the file text into findall(); it returns a list of all the found strings\u001b[39;00m\n\u001b[0;32m      4\u001b[0m strings \u001b[38;5;241m=\u001b[39m re\u001b[38;5;241m.\u001b[39mfindall(\u001b[38;5;124mr\u001b[39m\u001b[38;5;124m'\u001b[39m\u001b[38;5;124msome pattern\u001b[39m\u001b[38;5;124m'\u001b[39m, f\u001b[38;5;241m.\u001b[39mread())\n",
      "\u001b[1;31mFileNotFoundError\u001b[0m: [Errno 2] No such file or directory: 'test.txt'"
     ]
    }
   ],
   "source": [
    "# Open file\n",
    "f = open('test.txt', 'r') # 注意替换成自己的文件\n",
    "# Feed the file text into findall(); it returns a list of all the found strings\n",
    "strings = re.findall(r'some pattern', f.read())  # 替换成自己想匹配的模式"
   ]
  },
  {
   "cell_type": "markdown",
   "id": "b6233c28",
   "metadata": {
    "ExecuteTime": {
     "end_time": "2023-03-02T11:16:33.306403Z",
     "start_time": "2023-03-02T11:16:33.300545Z"
    }
   },
   "source": [
    "`findall`可以与前面的括号分组一起使用，此时findall返回的是一个元组列表："
   ]
  },
  {
   "cell_type": "code",
   "execution_count": 19,
   "id": "7495b60a",
   "metadata": {
    "ExecuteTime": {
     "end_time": "2023-03-02T11:16:44.782497Z",
     "start_time": "2023-03-02T11:16:44.775662Z"
    }
   },
   "outputs": [
    {
     "name": "stdout",
     "output_type": "stream",
     "text": [
      "[('alice', 'google.com'), ('bob', 'abc.com')]\n",
      "alice\n",
      "google.com\n",
      "bob\n",
      "abc.com\n"
     ]
    }
   ],
   "source": [
    "str = 'purple alice@google.com, blah monkey bob@abc.com blah dishwasher'\n",
    "tuples = re.findall(r'([\\w\\.-]+)@([\\w\\.-]+)', str)\n",
    "print(tuples)  ## [('alice', 'google.com'), ('bob', 'abc.com')]\n",
    "for tuple in tuples:\n",
    "    print(tuple[0])  ## username\n",
    "    print(tuple[1])  ## host"
   ]
  },
  {
   "cell_type": "markdown",
   "id": "df6e103d",
   "metadata": {},
   "source": [
    "## 选项\n",
    "re 函数通过一些选项来修改模式匹配的行为。选项 `flag` 将作为额外的参数添加到 `search()` 或 `findall()` 等，例如 `re.search(pat, str, re.IGNORECASE)`。\n",
    "\n",
    "- `IGNORECASE`： 忽略匹配的大小写差异，因此“a”会同时匹配“a”和“A”。\n",
    "- `DOTALL`： 允许点 (.) 与换行符匹配，通常它与除换行符之外的其它字符匹配。您可能会觉得太麻烦了，因为您认为 `.*` 会匹配所有内容，但默认情况下，它不会超出行尾。请注意，`\\s`（空格）包含换行符，因此如果您想要匹配可能包含换行符的空格，只需使用 `\\s*`\n",
    "- `MULTILINE` : 允许 `^` 和 `$` 匹配每行的起始值和结尾。通常，`^`或`$`仅匹配整个字符串的开始和结束。\n",
    "\n",
    "\n",
    "## Greedy 与非 Greedy（可选）\n",
    "这是可选部分，显示了练习不需要的更高级的正则表达式方法。\n",
    "\n",
    "假设您拥有包含标记的文本：`<b>foo</b>` 以及 `<i>i</i>` 等\n",
    "\n",
    "假设您尝试匹配模式为“(<.*>)”的每个标记，系统会先匹配哪个模式？\n",
    "\n",
    "这个结果有些令人吃惊，但是 `.*` 的贪强之处在于，它与`<b>foo</b>`和`<i>so</i>`等整体匹配。问题是，`.*` 会尽可能详细（即“贪婪”），而不是在第一个 > 处停止。\n",
    "\n",
    "正则表达式的扩展是您添加`?`例如 `.*?` 或 `.+?`。现在，它们会尽快停止。因此，`(<.*?>)`格式仅获取`<b>`作为第一个匹配项，`</b>`作为第二个匹配项，以此类推，依次获取每个 `<..>` 对。该样式通常使用 `.*?`，然后立即在其右侧查找运行的某个具体标记（在本例中为 >）并结束。\n",
    "\n",
    "\n",
    "`*?` 扩展名源自 Perl，而包含 Perl 扩展名的正则表达式称为 Perl 兼容正则表达式 - pcre。Python 支持 `pcre`。许多命令行实用程序都带有表示接受 PC 模式的标志。\n",
    "\n",
    "“除字符 X 以外的所有这些字符”这一旧编码方法使用方括号样式进行编码。对于上述内容，您可以编写此模式，但不是使用 `.*` 来获取所有字符，而是使用 `[^>]*`，后者会跳过所有非 `>` 字符（前导 `^`“反转”方括号集，与方括号中元素外的任何字符匹配）。"
   ]
  },
  {
   "cell_type": "markdown",
   "id": "c74ec7d0",
   "metadata": {},
   "source": [
    "\n",
    "## 替换（可选）\n",
    "`re.sub(pat, replace, str)` 函数会搜索给定字符串中的所有模式实例，并替换这些实例。替换字符串可以用`\\1`、`\\2`，它们表示来自原始匹配文本的 group(1)、group(2) 等的文本。\n",
    "\n",
    "以下示例搜索所有电子邮件地址，并将其更改以保留用户 (`\\1`)，但将“yo-yo-dyne.com”作为主机。"
   ]
  },
  {
   "cell_type": "code",
   "execution_count": 21,
   "id": "9b051210",
   "metadata": {
    "ExecuteTime": {
     "end_time": "2023-03-02T11:18:43.449380Z",
     "start_time": "2023-03-02T11:18:43.441570Z"
    }
   },
   "outputs": [
    {
     "name": "stdout",
     "output_type": "stream",
     "text": [
      "purple alice@yo-yo-dyne.com, blah monkey bob@yo-yo-dyne.com blah dishwasher\n"
     ]
    }
   ],
   "source": [
    "str = 'purple alice@google.com, blah monkey bob@abc.com blah dishwasher'\n",
    "## re.sub(pat, replacement, str) -- returns new string with all replacements,\n",
    "## \\1 is group(1), \\2 group(2) in the replacement\n",
    "print(re.sub(r'([\\w\\.-]+)@([\\w\\.-]+)', r'\\1@yo-yo-dyne.com', str))\n",
    "## purple alice@yo-yo-dyne.com, blah monkey bob@yo-yo-dyne.com blah dishwasher"
   ]
  },
  {
   "cell_type": "markdown",
   "id": "60ae2342",
   "metadata": {},
   "source": [
    "## 参考链接\n",
    "\n",
    "1. https://developers.google.com/edu/python/regular-expressions?hl=zh-cn\n",
    "2. https://docs.python.org/3/library/re.html"
   ]
  },
  {
   "cell_type": "markdown",
   "id": "c1f838e6",
   "metadata": {},
   "source": [
    "# 4. 装饰器(Decorators)\n",
    "\n",
    "装饰器允许我们包装另一个函数，以扩展包装函数的行为。为了理解装饰器，需要先了解一些函数的概念。\n",
    "**第一类对象(First Class Objects)**\n",
    "在 Python 中，函数是第一类对象，这意味着 Python 中的函数可以作为参数使用或传递。\n",
    "实例1： 将函数看作对象\n"
   ]
  },
  {
   "cell_type": "code",
   "execution_count": 22,
   "id": "a2bcdd9c",
   "metadata": {
    "ExecuteTime": {
     "end_time": "2023-03-02T11:19:49.173384Z",
     "start_time": "2023-03-02T11:19:49.166568Z"
    }
   },
   "outputs": [
    {
     "name": "stdout",
     "output_type": "stream",
     "text": [
      "HELLO\n",
      "HELLO\n"
     ]
    }
   ],
   "source": [
    "#实例1： 将函数看作对象\n",
    "def shout(text):\n",
    "\treturn text.upper()\n",
    "\n",
    "\n",
    "print(shout('Hello'))\n",
    "yell = shout\n",
    "print(yell('Hello'))"
   ]
  },
  {
   "cell_type": "code",
   "execution_count": 23,
   "id": "8256debd",
   "metadata": {
    "ExecuteTime": {
     "end_time": "2023-03-02T11:20:06.830628Z",
     "start_time": "2023-03-02T11:20:06.823202Z"
    }
   },
   "outputs": [
    {
     "name": "stdout",
     "output_type": "stream",
     "text": [
      "HI, I AM CREATED BY A FUNCTION PASSED AS AN ARGUMENT.\n",
      "hi, i am created by a function passed as an argument.\n"
     ]
    }
   ],
   "source": [
    "#示例2：将函数作为参数传递\n",
    "def shout(text):\n",
    "    return text.upper()\n",
    " \n",
    "def whisper(text):\n",
    "    return text.lower()\n",
    " \n",
    "def greet(func):\n",
    "    # storing the function in a variable\n",
    "    greeting = func(\"\"\"Hi, I am created by a function passed as an argument.\"\"\")\n",
    "    print (greeting)\n",
    "\n",
    "    \n",
    "greet(shout)\n",
    "greet(whisper)"
   ]
  },
  {
   "cell_type": "code",
   "execution_count": 24,
   "id": "4e9f1d07",
   "metadata": {
    "ExecuteTime": {
     "end_time": "2023-03-02T11:20:31.504315Z",
     "start_time": "2023-03-02T11:20:31.497491Z"
    }
   },
   "outputs": [
    {
     "name": "stdout",
     "output_type": "stream",
     "text": [
      "25\n"
     ]
    }
   ],
   "source": [
    "#例3：从另一个函数返回函数。\n",
    "def create_adder(x):\n",
    "    def adder(y):\n",
    "        return x+y\n",
    " \n",
    "    return adder\n",
    " \n",
    "add_15 = create_adder(15)\n",
    " \n",
    "print(add_15(10))"
   ]
  },
  {
   "cell_type": "markdown",
   "id": "bd6c35ed",
   "metadata": {},
   "source": [
    "## 装饰器\n",
    "装饰器用于修改函数或类的行为。在装饰器中，函数作为参数进入另一个函数，然后在包装器函数中调用。\n",
    "下面来创建一个装饰器： "
   ]
  },
  {
   "cell_type": "code",
   "execution_count": 25,
   "id": "9c5a6cfb",
   "metadata": {
    "ExecuteTime": {
     "end_time": "2023-03-02T11:21:42.265307Z",
     "start_time": "2023-03-02T11:21:42.242170Z"
    }
   },
   "outputs": [
    {
     "data": {
      "text/plain": [
       "'HELLO THERE'"
      ]
     },
     "execution_count": 25,
     "metadata": {},
     "output_type": "execute_result"
    }
   ],
   "source": [
    "def uppercase_decorator(function):\n",
    "    def wrapper():\n",
    "        func = function()\n",
    "        make_uppercase = func.upper()\n",
    "        return make_uppercase\n",
    "\n",
    "    return wrapper\n",
    "\n",
    "\n",
    "def say_hi():\n",
    "    return 'hello there'\n",
    "\n",
    "decorate = uppercase_decorator(say_hi)\n",
    "decorate()"
   ]
  },
  {
   "cell_type": "markdown",
   "id": "087a1fb2",
   "metadata": {},
   "source": [
    "Python 为我们提供了一种更简单的方式来应用装饰器。我们只需在要装饰的功能之前使用 `@` 符号"
   ]
  },
  {
   "cell_type": "code",
   "execution_count": 26,
   "id": "52260197",
   "metadata": {
    "ExecuteTime": {
     "end_time": "2023-03-02T11:22:08.102391Z",
     "start_time": "2023-03-02T11:22:08.094584Z"
    }
   },
   "outputs": [
    {
     "data": {
      "text/plain": [
       "'HELLO THERE'"
      ]
     },
     "execution_count": 26,
     "metadata": {},
     "output_type": "execute_result"
    }
   ],
   "source": [
    "@uppercase_decorator\n",
    "def say_hi():\n",
    "    return 'hello there'\n",
    "\n",
    "say_hi()"
   ]
  },
  {
   "cell_type": "markdown",
   "id": "fddf242b",
   "metadata": {},
   "source": [
    "装饰器是可以嵌套的，上一个装饰器处理后的函数可以继续传递给下一个装饰器。"
   ]
  },
  {
   "cell_type": "code",
   "execution_count": 27,
   "id": "0e42f0b3",
   "metadata": {
    "ExecuteTime": {
     "end_time": "2023-03-02T11:22:32.720698Z",
     "start_time": "2023-03-02T11:22:32.710962Z"
    }
   },
   "outputs": [
    {
     "data": {
      "text/plain": [
       "['HELLO', 'THERE']"
      ]
     },
     "execution_count": 27,
     "metadata": {},
     "output_type": "execute_result"
    }
   ],
   "source": [
    "def split_string(function):\n",
    "    def wrapper():\n",
    "        func = function()\n",
    "        splitted_string = func.split()\n",
    "        return splitted_string\n",
    "\n",
    "    return wrapper\n",
    "\n",
    "@split_string\n",
    "@uppercase_decorator\n",
    "def say_hi():\n",
    "    return 'hello there'\n",
    "say_hi()"
   ]
  },
  {
   "cell_type": "markdown",
   "id": "7662e015",
   "metadata": {},
   "source": [
    "注意装饰器应用的顺序是从下到上的，也就是先应用`@uppercase_decorator`，然后应用`@split_string`。"
   ]
  },
  {
   "cell_type": "markdown",
   "id": "20afba4e",
   "metadata": {},
   "source": [
    "## 装饰器进阶\n",
    "接受参数：\n",
    "有时我们可能需要定义一个接受参数的装饰器。我们通过**将参数传递给包装器函数**来实现这一点。然后，参数将传递给在调用时正在修饰的函数。"
   ]
  },
  {
   "cell_type": "code",
   "execution_count": 28,
   "id": "8db29232",
   "metadata": {
    "ExecuteTime": {
     "end_time": "2023-03-02T11:23:00.334306Z",
     "start_time": "2023-03-02T11:23:00.327471Z"
    }
   },
   "outputs": [
    {
     "name": "stdout",
     "output_type": "stream",
     "text": [
      "My arguments are: Nairobi, Accra\n",
      "Cities I love are Nairobi and Accra\n"
     ]
    }
   ],
   "source": [
    "def decorator_with_arguments(function):\n",
    "    def wrapper_accepting_arguments(arg1, arg2):\n",
    "        print(\"My arguments are: {0}, {1}\".format(arg1,arg2))\n",
    "        function(arg1, arg2)\n",
    "    return wrapper_accepting_arguments\n",
    "\n",
    "\n",
    "@decorator_with_arguments\n",
    "def cities(city_one, city_two):\n",
    "    print(\"Cities I love are {0} and {1}\".format(city_one, city_two))\n",
    "\n",
    "cities(\"Nairobi\", \"Accra\")"
   ]
  },
  {
   "cell_type": "markdown",
   "id": "6357ae6c",
   "metadata": {},
   "source": [
    "可以利用`*args`和`**kwargs`处理任意的位置参数和关键字参数："
   ]
  },
  {
   "cell_type": "code",
   "execution_count": 29,
   "id": "f0cfede8",
   "metadata": {
    "ExecuteTime": {
     "end_time": "2023-03-02T11:23:29.086354Z",
     "start_time": "2023-03-02T11:23:29.076049Z"
    }
   },
   "outputs": [
    {
     "name": "stdout",
     "output_type": "stream",
     "text": [
      "The positional arguments are ()\n",
      "The keyword arguments are {}\n",
      "No arguments here.\n",
      "The positional arguments are (1, 2, 3)\n",
      "The keyword arguments are {}\n",
      "1 2 3\n",
      "The positional arguments are ()\n",
      "The keyword arguments are {'first_name': 'Derrick', 'last_name': 'Mwiti'}\n",
      "This has shown keyword arguments\n"
     ]
    }
   ],
   "source": [
    "def a_decorator_passing_arbitrary_arguments(function_to_decorate):\n",
    "    def a_wrapper_accepting_arbitrary_arguments(*args,**kwargs):\n",
    "        print('The positional arguments are', args)\n",
    "        print('The keyword arguments are', kwargs)\n",
    "        function_to_decorate(*args)\n",
    "    return a_wrapper_accepting_arbitrary_arguments\n",
    "\n",
    "@a_decorator_passing_arbitrary_arguments\n",
    "def function_with_no_argument():\n",
    "    print(\"No arguments here.\")\n",
    "\n",
    "function_with_no_argument()\n",
    "\n",
    "# 位置参数\n",
    "@a_decorator_passing_arbitrary_arguments\n",
    "def function_with_arguments(a, b, c):\n",
    "    print(a, b, c)\n",
    "\n",
    "function_with_arguments(1,2,3)\n",
    "\n",
    "# 关键字参数\n",
    "@a_decorator_passing_arbitrary_arguments\n",
    "def function_with_keyword_arguments():\n",
    "    print(\"This has shown keyword arguments\")\n",
    "\n",
    "function_with_keyword_arguments(first_name=\"Derrick\", last_name=\"Mwiti\")\n"
   ]
  },
  {
   "cell_type": "markdown",
   "id": "ea7676e2",
   "metadata": {},
   "source": [
    "## 将参数传递给装饰器\n",
    "现在让我们看看如何将参数传递给装饰器本身。"
   ]
  },
  {
   "cell_type": "code",
   "execution_count": 30,
   "id": "1d7c2589",
   "metadata": {
    "ExecuteTime": {
     "end_time": "2023-03-02T11:24:07.192281Z",
     "start_time": "2023-03-02T11:24:07.181867Z"
    }
   },
   "outputs": [
    {
     "name": "stdout",
     "output_type": "stream",
     "text": [
      "The wrapper can access all the variables\n",
      "\t- from the decorator maker: Pandas Numpy Scikit-learn\n",
      "\t- from the function call: Pandas Science Tools\n",
      "and pass them to the decorated function\n",
      "This is the decorated function and it only knows about its arguments: Pandas Science Tools\n"
     ]
    }
   ],
   "source": [
    "def decorator_maker_with_arguments(decorator_arg1, decorator_arg2, decorator_arg3):\n",
    "    def decorator(func):\n",
    "        def wrapper(function_arg1, function_arg2, function_arg3) :\n",
    "            \"This is the wrapper function\"\n",
    "            print(\"The wrapper can access all the variables\\n\"\n",
    "                  \"\\t- from the decorator maker: {0} {1} {2}\\n\"\n",
    "                  \"\\t- from the function call: {3} {4} {5}\\n\"\n",
    "                  \"and pass them to the decorated function\"\n",
    "                  .format(decorator_arg1, decorator_arg2,decorator_arg3,\n",
    "                          function_arg1, function_arg2,function_arg3))\n",
    "            return func(function_arg1, function_arg2,function_arg3)\n",
    "\n",
    "        return wrapper\n",
    "\n",
    "    return decorator\n",
    "\n",
    "pandas = \"Pandas\"\n",
    "@decorator_maker_with_arguments(pandas, \"Numpy\",\"Scikit-learn\")\n",
    "def decorated_function_with_arguments(function_arg1, function_arg2,function_arg3):\n",
    "    print(\"This is the decorated function and it only knows about its arguments: {0}\"\n",
    "           \" {1}\" \" {2}\".format(function_arg1, function_arg2,function_arg3))\n",
    "\n",
    "decorated_function_with_arguments(pandas, \"Science\", \"Tools\")"
   ]
  },
  {
   "cell_type": "markdown",
   "id": "9ab9247d",
   "metadata": {},
   "source": [
    "## 调试装饰器\n",
    "装饰器包装函数。原始函数名称、其文档字符串和参数列表都被包装器闭包隐藏：例如，当我们尝试访问元数据`.__name__`时，我们将看到包装器闭包的元数据。这在调试时带来了挑战"
   ]
  },
  {
   "cell_type": "code",
   "execution_count": 31,
   "id": "ffd5c3ce",
   "metadata": {
    "ExecuteTime": {
     "end_time": "2023-03-02T11:24:44.209333Z",
     "start_time": "2023-03-02T11:24:44.201373Z"
    }
   },
   "outputs": [
    {
     "data": {
      "text/plain": [
       "'This is the wrapper function'"
      ]
     },
     "execution_count": 31,
     "metadata": {},
     "output_type": "execute_result"
    }
   ],
   "source": [
    "decorated_function_with_arguments.__name__\n",
    "'wrapper'\n",
    "decorated_function_with_arguments.__doc__\n",
    "'This is the wrapper function'"
   ]
  },
  {
   "cell_type": "markdown",
   "id": "d64b038a",
   "metadata": {},
   "source": [
    "为了解决这一挑战，Python提供了一个装饰器`functools.wraps`。此修饰器将丢失的元数据从未修饰的函数复制到修饰的闭包。让我们展示一下我们将如何做到这一点。"
   ]
  },
  {
   "cell_type": "code",
   "execution_count": 32,
   "id": "e770b739",
   "metadata": {
    "ExecuteTime": {
     "end_time": "2023-03-02T11:25:00.409106Z",
     "start_time": "2023-03-02T11:25:00.399201Z"
    }
   },
   "outputs": [
    {
     "data": {
      "text/plain": [
       "'HELLO THERE'"
      ]
     },
     "execution_count": 32,
     "metadata": {},
     "output_type": "execute_result"
    }
   ],
   "source": [
    "import functools\n",
    "\n",
    "def uppercase_decorator(func):\n",
    "    @functools.wraps(func)\n",
    "    def wrapper():\n",
    "        return func().upper()\n",
    "    return wrapper\n",
    "\n",
    "@uppercase_decorator\n",
    "def say_hi():\n",
    "    \"This will say hi\"\n",
    "    return 'hello there'\n",
    "\n",
    "say_hi()"
   ]
  },
  {
   "cell_type": "markdown",
   "id": "58823f10",
   "metadata": {
    "ExecuteTime": {
     "end_time": "2023-03-02T11:25:07.714522Z",
     "start_time": "2023-03-02T11:25:07.707689Z"
    }
   },
   "source": [
    "当我们检查元数据时，我们注意到它现在引用的是函数的元数据，而不是包装器的元数据。"
   ]
  },
  {
   "cell_type": "code",
   "execution_count": 34,
   "id": "795726e1",
   "metadata": {
    "ExecuteTime": {
     "end_time": "2023-03-02T11:25:28.723010Z",
     "start_time": "2023-03-02T11:25:28.712185Z"
    }
   },
   "outputs": [
    {
     "name": "stdout",
     "output_type": "stream",
     "text": [
      "say_hi\n",
      "This will say hi\n"
     ]
    }
   ],
   "source": [
    "print(say_hi.__name__)\n",
    "#'say_hi'\n",
    "print(say_hi.__doc__)\n",
    "#'This will say hi'"
   ]
  },
  {
   "cell_type": "markdown",
   "id": "8d4729b3",
   "metadata": {},
   "source": [
    "## 装饰器案例\n",
    "使用装饰器来为函数显示执行消耗的时间："
   ]
  },
  {
   "cell_type": "code",
   "execution_count": 37,
   "id": "c318e5c2",
   "metadata": {
    "ExecuteTime": {
     "end_time": "2023-03-02T11:26:14.160528Z",
     "start_time": "2023-03-02T11:26:12.149663Z"
    }
   },
   "outputs": [
    {
     "name": "stdout",
     "output_type": "stream",
     "text": [
      "3628800\n",
      "Total time taken in :  factorial 2.000135660171509\n"
     ]
    }
   ],
   "source": [
    "import time\n",
    "import math\n",
    "import functools\n",
    "\n",
    "def calculate_time(func):\n",
    "\t\n",
    "\t@functools.wraps(func)\n",
    "\tdef inner1(*args, **kwargs):\n",
    "\t\tbegin = time.time()\n",
    "\t\tfunc(*args, **kwargs)\n",
    "\t\tend = time.time()\n",
    "\t\tprint(\"Total time taken in : \", func.__name__, end - begin)\n",
    "\n",
    "\treturn inner1\n",
    "\n",
    "\n",
    "@calculate_time\n",
    "def factorial(num):\n",
    "\ttime.sleep(2)\n",
    "\tprint(math.factorial(num))\n",
    "\n",
    "factorial(10)"
   ]
  },
  {
   "cell_type": "markdown",
   "id": "8fd8d552",
   "metadata": {
    "ExecuteTime": {
     "end_time": "2023-03-02T11:25:57.212921Z",
     "start_time": "2023-03-02T11:25:57.206089Z"
    }
   },
   "source": [
    "此外，使用`flask`等框架也经常会遇到装饰器语法。\n",
    "## 参考链接\n",
    "1. https://www.datacamp.com/tutorial/decorators-python\n",
    "2. https://www.geeksforgeeks.org/decorators-in-python/\n",
    "3. 《Effective Python 第二版》26 使用functools.wraps定义函数装饰器"
   ]
  },
  {
   "cell_type": "code",
   "execution_count": null,
   "id": "be1374c1",
   "metadata": {},
   "outputs": [],
   "source": []
  }
 ],
 "metadata": {
  "kernelspec": {
   "display_name": "Python 3 (ipykernel)",
   "language": "python",
   "name": "python3"
  },
  "language_info": {
   "codemirror_mode": {
    "name": "ipython",
    "version": 3
   },
   "file_extension": ".py",
   "mimetype": "text/x-python",
   "name": "python",
   "nbconvert_exporter": "python",
   "pygments_lexer": "ipython3",
   "version": "3.8.13"
  },
  "vp": {
   "vp_config_version": "1.0.0",
   "vp_menu_width": 273,
   "vp_note_display": false,
   "vp_note_width": 0,
   "vp_position": {
    "width": 278
   },
   "vp_section_display": true,
   "vp_signature": "VisualPython"
  }
 },
 "nbformat": 4,
 "nbformat_minor": 5
}
