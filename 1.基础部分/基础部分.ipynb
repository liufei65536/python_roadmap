{
 "cells": [
  {
   "cell_type": "markdown",
   "id": "2c62a7dc",
   "metadata": {},
   "source": [
    "# 1 基础语法"
   ]
  },
  {
   "cell_type": "markdown",
   "id": "621ddd72",
   "metadata": {},
   "source": [
    "基础语法建议参考Python官网教程：[Python 教程 — Python 3.11.2 文档](https://docs.python.org/zh-cn/3/tutorial/index.html)\n",
    "\n",
    "这个笔记本主要用来帮助回忆知识，而不是第一次学习。"
   ]
  },
  {
   "cell_type": "markdown",
   "id": "7b7f1acb",
   "metadata": {
    "ExecuteTime": {
     "end_time": "2023-02-28T11:54:37.128073Z",
     "start_time": "2023-02-28T11:54:37.123200Z"
    }
   },
   "source": [
    "# 2 变量和数据类型"
   ]
  },
  {
   "cell_type": "markdown",
   "id": "086c6914",
   "metadata": {},
   "source": [
    "## 2.1 变量赋值"
   ]
  },
  {
   "cell_type": "code",
   "execution_count": 1,
   "id": "1723ba82",
   "metadata": {
    "ExecuteTime": {
     "end_time": "2023-02-28T12:12:02.131608Z",
     "start_time": "2023-02-28T12:12:02.119896Z"
    }
   },
   "outputs": [],
   "source": [
    "n = 12          # 使用= 给变量赋值\n",
    "a = b = c = 42  # 允许链式赋值"
   ]
  },
  {
   "cell_type": "code",
   "execution_count": 2,
   "id": "53c4cf35",
   "metadata": {
    "ExecuteTime": {
     "end_time": "2023-02-28T12:12:02.144239Z",
     "start_time": "2023-02-28T12:12:02.135172Z"
    }
   },
   "outputs": [
    {
     "name": "stdout",
     "output_type": "stream",
     "text": [
      "12\n",
      "42 42 42\n"
     ]
    }
   ],
   "source": [
    "print(n)\n",
    "print(a,b,c)"
   ]
  },
  {
   "cell_type": "markdown",
   "id": "62b98ae1",
   "metadata": {},
   "source": [
    "## 2.2 变量类型\n",
    "变量类型是**动态**的，一个可以被赋值为不同类型的值。"
   ]
  },
  {
   "cell_type": "code",
   "execution_count": 3,
   "id": "04087e03",
   "metadata": {
    "ExecuteTime": {
     "end_time": "2023-02-28T12:12:02.152998Z",
     "start_time": "2023-02-28T12:12:02.146165Z"
    }
   },
   "outputs": [
    {
     "name": "stdout",
     "output_type": "stream",
     "text": [
      "42\n",
      "a string\n"
     ]
    }
   ],
   "source": [
    "var = 42  # 整数类型 \n",
    "print(var)\n",
    "var = \"a string\" # 字符串类型\n",
    "print(var)"
   ]
  },
  {
   "cell_type": "markdown",
   "id": "311c0585",
   "metadata": {},
   "source": [
    "## 2.3 对象引用\n",
    "Python高度面向对象。Python中几乎所有数据都是某个类。例如`print(300)`，实际上执行了3个操作：\n",
    "1. 创建整数对象\n",
    "2. 给该对象赋值300\n",
    "3. 显示到控制台\n",
    "\n",
    "Python变量是一个**符号名称**，它是对**对象的引用**。\n",
    "将对象赋值给变量后，可用该名称使用对象，但数据本身仍然在对象中。"
   ]
  },
  {
   "cell_type": "markdown",
   "id": "a7ca7b0f",
   "metadata": {},
   "source": [
    "## 2.4 对象标识符(id)\n",
    "Python中每个对象都有一个自己的唯一的整数标识符。可以用`id()`获取。"
   ]
  },
  {
   "cell_type": "code",
   "execution_count": 4,
   "id": "40d3ea7f",
   "metadata": {
    "ExecuteTime": {
     "end_time": "2023-02-28T12:12:02.164201Z",
     "start_time": "2023-02-28T12:12:02.154576Z"
    }
   },
   "outputs": [
    {
     "name": "stdout",
     "output_type": "stream",
     "text": [
      "1673085965232\n",
      "1673085965232\n",
      "1673085964624\n"
     ]
    }
   ],
   "source": [
    "n = 300\n",
    "m = n\n",
    "print(id(n))\n",
    "print(id(m)) # m 和 n 指向同一个对象，id相同\n",
    "m = 400\n",
    "print(id(m))# m 指向另一个对象，id变化"
   ]
  },
  {
   "cell_type": "markdown",
   "id": "d648b7fc",
   "metadata": {},
   "source": [
    "**深入探讨：缓存小整数值**\n",
    "\n",
    "运行下面两个例子，你会发现一个奇怪的事情。"
   ]
  },
  {
   "cell_type": "code",
   "execution_count": 5,
   "id": "2108d6cd",
   "metadata": {
    "ExecuteTime": {
     "end_time": "2023-02-28T12:12:02.174981Z",
     "start_time": "2023-02-28T12:12:02.167123Z"
    }
   },
   "outputs": [
    {
     "name": "stdout",
     "output_type": "stream",
     "text": [
      "1673085964464\n",
      "1673085965136\n"
     ]
    }
   ],
   "source": [
    "m = 300  # 创建一个整数对象，并赋值300\n",
    "n = 300 # 创建另一个整数对象，并赋值300\n",
    "print(id(m))\n",
    "print(id(n))# m和n指向两个对象，所以id应该不同"
   ]
  },
  {
   "cell_type": "code",
   "execution_count": 6,
   "id": "a5780dce",
   "metadata": {
    "ExecuteTime": {
     "end_time": "2023-02-28T12:12:02.183381Z",
     "start_time": "2023-02-28T12:12:02.177894Z"
    }
   },
   "outputs": [
    {
     "name": "stdout",
     "output_type": "stream",
     "text": [
      "140727699907232\n",
      "140727699907232\n"
     ]
    }
   ],
   "source": [
    "m = 30\n",
    "n = 30\n",
    "print(id(m))\n",
    "print(id(n)) # why id(n) == id(m) ？"
   ]
  },
  {
   "cell_type": "markdown",
   "id": "3a281c48",
   "metadata": {},
   "source": [
    "例2中，m和n应该指向两个整数对象，但是会看到它们id相同，说明指向的是同一个对象。这是因为解释器为小整数进行了优化，当您将单独的变量分配给[-5, 256]范围内的整数值时，它们实际上将引用同一对象。"
   ]
  },
  {
   "cell_type": "markdown",
   "id": "b86fa986",
   "metadata": {},
   "source": [
    "## 2.5 变量名称\n",
    "Python变量由数字、字母下划线组成。且不能以数字开头。并且不要和关键字冲突。（Python3支持Unicode字符(支持中文)）"
   ]
  },
  {
   "cell_type": "code",
   "execution_count": 7,
   "id": "247622ed",
   "metadata": {
    "ExecuteTime": {
     "end_time": "2023-02-28T12:12:02.191059Z",
     "start_time": "2023-02-28T12:12:02.185176Z"
    }
   },
   "outputs": [],
   "source": [
    "var1_ = 1\n",
    "some_var = 2\n",
    "_work = 3\n",
    "#3num = 4 # invalid， 不能以数字开头。\n",
    "#def = 5 # invalid ， 不能和关键字冲突\n",
    "名字 = \"小明\" # 允许用中文做变量名，但是不推荐（某些古老的python版本可能不支持，以及某些第三方库）"
   ]
  },
  {
   "cell_type": "markdown",
   "id": "9fe45af8",
   "metadata": {},
   "source": [
    "# 3.类型转换、异常"
   ]
  },
  {
   "cell_type": "markdown",
   "id": "d8ae53d4",
   "metadata": {},
   "source": [
    "## 3.1 类型转换\n",
    "类型转换可以分为两类：\n",
    "1. 隐式类型转换。如  整数+浮点数操作时，整数会自动被转换成浮点数，避免精度损失。\n",
    "2. 显式类型转换。使用内置函数如`int()`、`float()`、`str()`等将数据转换成指定类型。"
   ]
  },
  {
   "cell_type": "code",
   "execution_count": 9,
   "id": "036b1da4",
   "metadata": {
    "ExecuteTime": {
     "end_time": "2023-02-28T12:18:48.988997Z",
     "start_time": "2023-02-28T12:18:48.982166Z"
    }
   },
   "outputs": [
    {
     "name": "stdout",
     "output_type": "stream",
     "text": [
      "3.3\n",
      "<class 'int'> <class 'float'>\n",
      "<class 'float'>\n"
     ]
    }
   ],
   "source": [
    "# 1. 隐式\n",
    "a = 1\n",
    "b = 2.3\n",
    "c = a+b\n",
    "print(c)\n",
    "\n",
    "print(type(a),type(b))\n",
    "print(type(c))"
   ]
  },
  {
   "cell_type": "code",
   "execution_count": 10,
   "id": "890c0075",
   "metadata": {
    "ExecuteTime": {
     "end_time": "2023-02-28T12:19:33.783962Z",
     "start_time": "2023-02-28T12:19:33.779075Z"
    }
   },
   "outputs": [
    {
     "name": "stdout",
     "output_type": "stream",
     "text": [
      "<class 'float'>\n",
      "<class 'int'>\n"
     ]
    }
   ],
   "source": [
    "# 2. 显示\n",
    "b = 2.3\n",
    "c = int(b)\n",
    "print(type(b))\n",
    "print(type(c))"
   ]
  },
  {
   "cell_type": "markdown",
   "id": "452e58f0",
   "metadata": {},
   "source": [
    "## 3.2 异常"
   ]
  },
  {
   "cell_type": "markdown",
   "id": "e9c0ba8a",
   "metadata": {},
   "source": [
    "在谈到异常前，我们先看看最常见的语法错误(SyntaxError:invalid syntax)。\n",
    "\n",
    "语法错误是因为没有遵循Python语法导致的，在运行前就能检测出来。\n",
    "\n",
    "如果你用PyCharm之类的IDE，可以看到语法错误的地方会标红。"
   ]
  },
  {
   "cell_type": "code",
   "execution_count": 12,
   "id": "dedb5793",
   "metadata": {
    "ExecuteTime": {
     "end_time": "2023-02-28T12:28:37.206556Z",
     "start_time": "2023-02-28T12:28:37.201648Z"
    }
   },
   "outputs": [
    {
     "ename": "SyntaxError",
     "evalue": "invalid syntax (2884618176.py, line 1)",
     "output_type": "error",
     "traceback": [
      "\u001b[1;36m  Input \u001b[1;32mIn [12]\u001b[1;36m\u001b[0m\n\u001b[1;33m    while True print('Hello world')\u001b[0m\n\u001b[1;37m               ^\u001b[0m\n\u001b[1;31mSyntaxError\u001b[0m\u001b[1;31m:\u001b[0m invalid syntax\n"
     ]
    }
   ],
   "source": [
    "while True print('Hello world')"
   ]
  },
  {
   "cell_type": "markdown",
   "id": "bbc8f9d3",
   "metadata": {},
   "source": [
    "然而，即使语法正确，运行时仍然可能出错。执行时出现的错误称为异常(Exception)。"
   ]
  },
  {
   "cell_type": "code",
   "execution_count": 13,
   "id": "ccf62035",
   "metadata": {
    "ExecuteTime": {
     "end_time": "2023-02-28T12:32:01.593782Z",
     "start_time": "2023-02-28T12:32:00.945711Z"
    }
   },
   "outputs": [
    {
     "ename": "ZeroDivisionError",
     "evalue": "division by zero",
     "output_type": "error",
     "traceback": [
      "\u001b[1;31m---------------------------------------------------------------------------\u001b[0m",
      "\u001b[1;31mZeroDivisionError\u001b[0m                         Traceback (most recent call last)",
      "Input \u001b[1;32mIn [13]\u001b[0m, in \u001b[0;36m<cell line: 1>\u001b[1;34m()\u001b[0m\n\u001b[1;32m----> 1\u001b[0m \u001b[38;5;241;43m1\u001b[39;49m\u001b[38;5;241;43m/\u001b[39;49m\u001b[38;5;241;43m0\u001b[39;49m\n",
      "\u001b[1;31mZeroDivisionError\u001b[0m: division by zero"
     ]
    }
   ],
   "source": [
    "1/0"
   ]
  },
  {
   "cell_type": "code",
   "execution_count": 14,
   "id": "fa4a5d9a",
   "metadata": {
    "ExecuteTime": {
     "end_time": "2023-02-28T12:32:18.761066Z",
     "start_time": "2023-02-28T12:32:18.741480Z"
    }
   },
   "outputs": [
    {
     "ename": "TypeError",
     "evalue": "unsupported operand type(s) for +: 'int' and 'str'",
     "output_type": "error",
     "traceback": [
      "\u001b[1;31m---------------------------------------------------------------------------\u001b[0m",
      "\u001b[1;31mTypeError\u001b[0m                                 Traceback (most recent call last)",
      "Input \u001b[1;32mIn [14]\u001b[0m, in \u001b[0;36m<cell line: 1>\u001b[1;34m()\u001b[0m\n\u001b[1;32m----> 1\u001b[0m \u001b[38;5;241;43m4\u001b[39;49m\u001b[43m \u001b[49m\u001b[38;5;241;43m+\u001b[39;49m\u001b[43m \u001b[49m\u001b[38;5;124;43m\"\u001b[39;49m\u001b[38;5;124;43mabc\u001b[39;49m\u001b[38;5;124;43m\"\u001b[39;49m\n",
      "\u001b[1;31mTypeError\u001b[0m: unsupported operand type(s) for +: 'int' and 'str'"
     ]
    }
   ],
   "source": [
    "4 + \"abc\""
   ]
  },
  {
   "cell_type": "markdown",
   "id": "291be9f3",
   "metadata": {
    "ExecuteTime": {
     "end_time": "2023-02-28T12:34:32.061998Z",
     "start_time": "2023-02-28T12:34:32.055172Z"
    }
   },
   "source": [
    "可以看到，上面语句分别出现了ZeroDivisionError 、 TypeError错误，\n",
    "从名字中我们可以猜测出异常的原因。ZeroDivisionError告诉我们除以0导致错误，\n",
    "TypeError则提示我们可能有类型不匹配的问题。"
   ]
  },
  {
   "cell_type": "markdown",
   "id": "fad318d7",
   "metadata": {
    "ExecuteTime": {
     "end_time": "2023-02-28T12:35:12.057114Z",
     "start_time": "2023-02-28T12:35:12.053209Z"
    }
   },
   "source": [
    "## 3.3 处理异常"
   ]
  },
  {
   "cell_type": "markdown",
   "id": "283ff2a8",
   "metadata": {},
   "source": [
    "三种处理异常的语法："
   ]
  },
  {
   "cell_type": "markdown",
   "id": "55f1787e",
   "metadata": {},
   "source": [
    "`try...except 错误 ...`"
   ]
  },
  {
   "cell_type": "code",
   "execution_count": 8,
   "id": "1cdb5243",
   "metadata": {
    "ExecuteTime": {
     "end_time": "2023-02-28T12:55:33.840090Z",
     "start_time": "2023-02-28T12:55:33.834232Z"
    }
   },
   "outputs": [
    {
     "name": "stdout",
     "output_type": "stream",
     "text": [
      "can not div zero\n"
     ]
    }
   ],
   "source": [
    "try:\n",
    "    #可能出错的语句\n",
    "    res = 1/0\n",
    "except ZeroDivisionError: # 错误1\n",
    "    #相应处理\n",
    "    print(\"can not div zero\")\n",
    "except TypeError : # 错误2\n",
    "    print(\"TypeError\")"
   ]
  },
  {
   "cell_type": "markdown",
   "id": "8135568b",
   "metadata": {},
   "source": [
    "2.`try... except 错误 ... else...`"
   ]
  },
  {
   "cell_type": "code",
   "execution_count": 4,
   "id": "3562ff50",
   "metadata": {
    "ExecuteTime": {
     "end_time": "2023-02-28T12:43:17.460607Z",
     "start_time": "2023-02-28T12:43:16.165390Z"
    }
   },
   "outputs": [
    {
     "name": "stdout",
     "output_type": "stream",
     "text": [
      "Enter a number: 1\n",
      "Not an even number!\n"
     ]
    }
   ],
   "source": [
    "try:\n",
    "    num = int(input(\"Enter a number: \"))\n",
    "    assert num % 2 == 0\n",
    "except:\n",
    "    print(\"Not an even number!\")\n",
    "else: # else 只有在except都失效时才执行\n",
    "    reciprocal = 1/num\n",
    "    print(reciprocal)"
   ]
  },
  {
   "cell_type": "markdown",
   "id": "e0186788",
   "metadata": {},
   "source": [
    "3.`try... except 错误 ... finally...`"
   ]
  },
  {
   "cell_type": "code",
   "execution_count": 2,
   "id": "0bc084c8",
   "metadata": {
    "ExecuteTime": {
     "end_time": "2023-02-28T12:42:26.263245Z",
     "start_time": "2023-02-28T12:42:26.258363Z"
    }
   },
   "outputs": [
    {
     "name": "stdout",
     "output_type": "stream",
     "text": [
      "Error: Denominator cannot be 0.\n",
      "This is finally block.\n"
     ]
    }
   ],
   "source": [
    "try:\n",
    "    numerator = 10\n",
    "    denominator = 0\n",
    "    result = numerator/denominator\n",
    "    print(result)\n",
    "except:\n",
    "    print(\"Error: Denominator cannot be 0.\")\n",
    "    \n",
    "finally: # finally 块总会执行\n",
    "    print(\"This is finally block.\")"
   ]
  },
  {
   "cell_type": "markdown",
   "id": "84e4f7b8",
   "metadata": {},
   "source": [
    "# 4 函数、内置函数"
   ]
  },
  {
   "cell_type": "markdown",
   "id": "c859674b",
   "metadata": {},
   "source": [
    "# 4.1 函数"
   ]
  },
  {
   "cell_type": "markdown",
   "id": "783d2d72",
   "metadata": {},
   "source": [
    "见：https://docs.python.org/zh-cn/3/tutorial/controlflow.html#more-on-defining-functions\n",
    "\n",
    "定义(define) 函数使用关键字`def`，后跟函数名与括号内的形参列表。函数语句从下一行开始，并且必须缩进。"
   ]
  },
  {
   "cell_type": "markdown",
   "id": "3c2f8530",
   "metadata": {
    "ExecuteTime": {
     "end_time": "2023-02-28T13:01:12.936727Z",
     "start_time": "2023-02-28T13:01:12.930872Z"
    }
   },
   "source": [
    "下面给出一些常见的函数定义方式："
   ]
  },
  {
   "cell_type": "code",
   "execution_count": 5,
   "id": "ce960f54",
   "metadata": {
    "ExecuteTime": {
     "end_time": "2023-02-28T12:47:43.155019Z",
     "start_time": "2023-02-28T12:47:43.150141Z"
    }
   },
   "outputs": [
    {
     "name": "stdout",
     "output_type": "stream",
     "text": [
      "3\n"
     ]
    }
   ],
   "source": [
    "# 1. 定义两个变量相加\n",
    "def add(a, b):\n",
    "    res = a + b\n",
    "    return res # 关键字 return 返回值\n",
    "print(add(1,2))"
   ]
  },
  {
   "cell_type": "code",
   "execution_count": 13,
   "id": "8a484c65",
   "metadata": {
    "ExecuteTime": {
     "end_time": "2023-02-28T13:09:12.638324Z",
     "start_time": "2023-02-28T13:09:12.633446Z"
    }
   },
   "outputs": [
    {
     "name": "stdout",
     "output_type": "stream",
     "text": [
      "hello,  stranger\n",
      "hello,  Tom\n",
      "hello,  Jery\n"
     ]
    }
   ],
   "source": [
    "# 给参数 设置默认值\n",
    "def say_hello(name=\"stranger\"):\n",
    "    print(\"hello, \", name)\n",
    "\n",
    "say_hello() # 不传参数时，使用默认值\n",
    "say_hello(\"Tom\") # 位置参数\n",
    "say_hello(name=\"Jery\") # 关键字参数(将 name=xx 这种方式传递的参数称为关键字参数；与之相对的，直接传值的参数称为位置参数)"
   ]
  },
  {
   "cell_type": "code",
   "execution_count": 20,
   "id": "60363282",
   "metadata": {
    "ExecuteTime": {
     "end_time": "2023-02-28T13:19:39.890510Z",
     "start_time": "2023-02-28T13:19:39.883683Z"
    }
   },
   "outputs": [
    {
     "name": "stdout",
     "output_type": "stream",
     "text": [
      "hello, aa\n",
      "hello, bb\n",
      "小明 你好\n",
      "小刚 早上好\n"
     ]
    }
   ],
   "source": [
    "# 接受任意数量参数的函数。 **kwargs将关键字参数接收成一个字典， *args 将位置参数接收成一个元组。\n",
    "# args和 kwargs名称 不是特定的，但是习惯用这两个。\n",
    "def say_hello(*args, **kwargs):\n",
    "    for arg in args:\n",
    "        print(\"hello,\", arg)\n",
    "    for k,v in kwargs.items():\n",
    "        print(k,v)\n",
    "say_hello('aa', 'bb', 小明='你好', 小刚='早上好')"
   ]
  },
  {
   "cell_type": "code",
   "execution_count": 23,
   "id": "8aa3b2f7",
   "metadata": {
    "ExecuteTime": {
     "end_time": "2023-02-28T13:22:08.848757Z",
     "start_time": "2023-02-28T13:22:08.842868Z"
    }
   },
   "outputs": [
    {
     "name": "stdout",
     "output_type": "stream",
     "text": [
      "aa bb\n"
     ]
    }
   ],
   "source": [
    "# 用的不多。 Python比较少对编程者添加限制。\n",
    "# 使用/限制 /的前面只能用位置参数， * 限制*的后面只能用关键字参数\n",
    "# def f(pos1, pos2, /, pos_or_kwd, *, kwd1, kwd2):\n",
    "# 如\n",
    "def f(*, name1,name2):\n",
    "    print(name1,name2)\n",
    "#f('aa', 'bb') # 位置参数不行了，只能用关键字参数\n",
    "f(name1='aa', name2='bb')"
   ]
  },
  {
   "cell_type": "markdown",
   "id": "6cf4dca2",
   "metadata": {},
   "source": [
    "## 一些坑"
   ]
  },
  {
   "cell_type": "markdown",
   "id": "4308f308",
   "metadata": {},
   "source": [
    "**默认关键字**的有一个坑。默认关键字只计算一次，所以不要用可变量（如`[]`, `{}`）作为默认关键字"
   ]
  },
  {
   "cell_type": "code",
   "execution_count": 6,
   "id": "15c5c844",
   "metadata": {
    "ExecuteTime": {
     "end_time": "2023-02-28T12:49:04.983885Z",
     "start_time": "2023-02-28T12:49:04.975102Z"
    }
   },
   "outputs": [
    {
     "name": "stdout",
     "output_type": "stream",
     "text": [
      "[1]\n",
      "[1, 2]\n",
      "[1, 2, 3]\n"
     ]
    }
   ],
   "source": [
    "def f(a, L=[]):\n",
    "    L.append(a)\n",
    "    return L\n",
    "\n",
    "print(f(1))\n",
    "print(f(2)) # L不会重新赋值，还是第一次赋值的列表\n",
    "print(f(3))"
   ]
  },
  {
   "cell_type": "markdown",
   "id": "a9a76a56",
   "metadata": {},
   "source": [
    "通常做法是在参数列表中设置默认值为None，然后在函数方法中赋值`[]`"
   ]
  },
  {
   "cell_type": "code",
   "execution_count": null,
   "id": "72c687ff",
   "metadata": {},
   "outputs": [],
   "source": [
    "def f(a, L=None):\n",
    "    if L is None:\n",
    "        L = []\n",
    "    L.append(a)\n",
    "    return L"
   ]
  },
  {
   "cell_type": "markdown",
   "id": "1698c804",
   "metadata": {
    "ExecuteTime": {
     "end_time": "2023-02-28T12:50:39.756641Z",
     "start_time": "2023-02-28T12:50:39.750785Z"
    }
   },
   "source": [
    "关于**函数重载**（函数名同参数不同）：\n",
    "Python是不支持函数重载的，后面的函数会覆盖前面的函数。\n",
    "函数重载的作用主要是同一功能，但允许参数不同。但Python可以通过任意参数和类型判断来处理。"
   ]
  },
  {
   "cell_type": "markdown",
   "id": "b17fd737",
   "metadata": {},
   "source": [
    "# 4.2 内置函数"
   ]
  },
  {
   "cell_type": "markdown",
   "id": "93c4894d",
   "metadata": {},
   "source": [
    "内置函数很多，可以看文档，浏览一遍有个印象，具体遇到在查文档。\n",
    "https://docs.python.org/3/library/functions.html"
   ]
  },
  {
   "cell_type": "markdown",
   "id": "9bf6e482",
   "metadata": {},
   "source": [
    "# 5 列表、元组、集合、字典\n",
    "\n",
    "关键字`list`、`tuple`、`set`、`dict`\n",
    "list类似数组，但长度可变。\n",
    "\n",
    "tuple和list很像，但其中的元素不可变。\n",
    "\n",
    "set和数学中集合概念基本一样，里面的元素是不重复的。\n",
    "\n",
    "dict是字典，以键-值对形式存储元素。方便用键查找值。\n",
    "\n",
    "参考：https://docs.python.org/zh-cn/3/tutorial/datastructures.html"
   ]
  },
  {
   "cell_type": "code",
   "execution_count": null,
   "id": "9f6f0c73",
   "metadata": {},
   "outputs": [],
   "source": []
  }
 ],
 "metadata": {
  "kernelspec": {
   "display_name": "Python 3 (ipykernel)",
   "language": "python",
   "name": "python3"
  },
  "language_info": {
   "codemirror_mode": {
    "name": "ipython",
    "version": 3
   },
   "file_extension": ".py",
   "mimetype": "text/x-python",
   "name": "python",
   "nbconvert_exporter": "python",
   "pygments_lexer": "ipython3",
   "version": "3.7.3"
  },
  "vp": {
   "vp_config_version": "1.0.0",
   "vp_menu_width": 273,
   "vp_note_display": false,
   "vp_note_width": 0,
   "vp_position": {
    "width": 278
   },
   "vp_section_display": false,
   "vp_signature": "VisualPython"
  }
 },
 "nbformat": 4,
 "nbformat_minor": 5
}
