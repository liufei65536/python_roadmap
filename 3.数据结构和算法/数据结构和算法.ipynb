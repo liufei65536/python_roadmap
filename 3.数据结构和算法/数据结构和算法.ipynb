{
 "cells": [
  {
   "cell_type": "markdown",
   "id": "b9e76659",
   "metadata": {},
   "source": [
    "视频简介：https://www.youtube.com/playlist?list=PLkZYeFmDuaN2-KUIv-mvbjfKszIGJ4FaY\n",
    "\n",
    "programiz网站教程：https://www.programiz.com/dsa\n",
    "\n",
    "programiz网站教程（中文，机翻）：https://miz.apachecn.org/#/docs/dsal/3\n"
   ]
  },
  {
   "cell_type": "markdown",
   "id": "e760b812",
   "metadata": {},
   "source": [
    "# 1.DSA简介\n",
    "## 1.1 什么是DSA，为什么学习？\n",
    "数据结构是用于存储和组织数据，算法是解决特定问题的步骤集合。学习数据结构和算法使我们能够编写高效和优化的计算机程序。\n",
    ">注：数据结构和算法DataStructure & Algorithms（DSA），后面简称DSA\n",
    "\n",
    "为什么学习DSA？\n",
    "从程序角度，学好数据结构和算法才能更有效的完成任务。例如排序，如果没有学过DSA，可能只能写出`O(N^2)`的算法，学过算法后，就会知道`O(NlogN)`的算法。\n",
    "从现实角度，数据结构和算法是公司招聘时考察的重要部分。\n",
    "\n",
    "### 相关的书籍\n",
    "- Introduction to Algorithms（**算法导论**）, Thomas H. Cormen - it is one of the best books in algorithms and covers a broad range of algorithms in-depth\n",
    "- Algorithms（算法）, Robert Sedgewick - it is the leading textbook on algorithms and is widely used in colleges and universities\n",
    "- The Art of Computer Programming（计算机编程的艺术）, Donald E. Knuth - this book is considered best if you know the subject and are looking for deeper understanding"
   ]
  },
  {
   "cell_type": "markdown",
   "id": "a23bf0b0",
   "metadata": {},
   "source": [
    "## 1.2 数据结构和类型\n",
    "数据结构用来存储和组织数据。\n",
    "基本上，数据结构可以分为两类：\n",
    "- 线性数据结构\n",
    "- 非线性数据结构\n",
    "\n",
    "### 线性数据结构\n",
    "线性数据结构中，元素是一个接着一个的有序序列。常见的线性数据结构有：\n",
    "1. Array（数组）\n",
    "数组在内存的存储是连续的。数组中的元素是同一类型的。\n",
    "2. Stack （栈）\n",
    "栈是一种后进先出(last in first out, LIFO)的数据结构。\n",
    "3. Queue（队列）\n",
    "队列是一种先进先出(FIFO)的数据结构。\n",
    "4. Linked List（链表）\n",
    "链表中的元素是一串节点(nodes)，每个节点保存数据和下一个节点的地址。\n",
    "\n",
    "### 非线性数据结构\n",
    "非线性数据结构没有特定的顺序。只是定义了元素间的连接关系。\n",
    "1. Graph（图）\n",
    "图中的每个节点称为顶点(vertex),顶点间通过边(edge)连接。\n",
    "2. Tree（树）\n",
    "树是一种特殊的图（无环图）"
   ]
  },
  {
   "cell_type": "markdown",
   "id": "05436bf6",
   "metadata": {},
   "source": [
    "## 1.3 渐进(asymptotic)分析 大O符号\n",
    "大O表示法表示算法运行时间的上限。 因此，它给出了算法的最坏情况的复杂度。大O表示法是最常用的。\n",
    "例如，查找长度为`N`的数组中值为`99`的元素的位置，最坏情况（元素在数组的最后或者元素不存在），要执行`N`次判断操作，则查找时间复杂度为`O(N)`。\n",
    "\n",
    "Theta(Θ)表示法从上方和下方将函数括起来，代表算法运行时间的上限和下限。\n",
    "Ω表示算法运行时间的下限。\n"
   ]
  },
  {
   "cell_type": "markdown",
   "id": "62273bc3",
   "metadata": {},
   "source": [
    "\n",
    "## 1.4 主定理和分治算法\n",
    "### 主定理\n",
    "主定理是用来计算递推关系`T(n) = aT(n/b) + f(n),`的时间复杂度。\n",
    "如果a ≥ 1和b > 1是常数，并且f(n)是渐近正函数，则递归关系的时间复杂度由下式给出：\n",
    "$$\n",
    "T(n) = aT(n/b) + f(n)\n",
    "$$\n",
    "其中, $T(n)$ 有下列渐进边界:\n",
    "![](assets/1.4-pic1.png)\n",
    "\n",
    "\n",
    "\n",
    "主定理的求解示例\n",
    "$T(n) = 3T(n/2) + n^2$\n",
    "![](assets/1.4-pic2.png)\n",
    "\n",
    "主定理的局限性\n",
    "在以下情况下，不能使用主定理：\n",
    "\n",
    "- T(n)不是单调的。 例如。T(n) = sin n\n",
    "- f(n)不是多项式。 例如。f(n) = 2^n\n",
    "- a不是常数。 例如。a = 2n\n",
    "- a < 1\n",
    "\n",
    "https://zhuanlan.zhihu.com/p/113406812"
   ]
  },
  {
   "cell_type": "markdown",
   "id": "b800d891",
   "metadata": {},
   "source": [
    "### 分治算法(Divide and Conquer)\n",
    "分治即分而治之，分治算法解决问题的步骤为：\n",
    "1. 将问题分解成更小的子问题\n",
    "2. 解决子问题（这个过程可以继续分解，直到子问题可以直接解决）\n",
    "3. 合并子问题的解\n",
    "\n",
    "下面是使用分治算法解决排序的例子。（归并排序 merge sort)\n",
    "\n",
    "![](assets/1.4-pic3.png)\n",
    "![](assets/1.4-pic4.png)\n",
    "![](assets/1.4-pic5.png)\n",
    "![](assets/1.4-pic6.png)\n",
    "\n",
    "\n",
    "可用主定理分析时间复杂度\n",
    "![](assets/1-4-pic7.png)"
   ]
  },
  {
   "cell_type": "markdown",
   "id": "bd8f4304",
   "metadata": {},
   "source": [
    "**Divide and Conquer Vs Dynamic approach（动态规划）**\n",
    "\n",
    "分治的方法将问题分为较小的子问题，这些子问题可以递归进一步解决。 每个子问题的结果都不存储以供将来参考，而在动态方法中，每个子问题的结果均存储以供将来参考。\n",
    "\n",
    "当同一子问题无法多次解决时，请使用分治的方法。 当将来要多次使用子问题的结果时，请使用动态方法。\n",
    "\n",
    "让我们通过一个例子来理解这一点。 假设我们试图找到斐波那契数列。 "
   ]
  },
  {
   "cell_type": "markdown",
   "id": "fe0f6eb1",
   "metadata": {},
   "source": [
    "递归："
   ]
  },
  {
   "cell_type": "code",
   "execution_count": 84,
   "id": "eef46591",
   "metadata": {
    "ExecuteTime": {
     "end_time": "2023-03-05T13:23:40.667878Z",
     "start_time": "2023-03-05T13:23:40.663974Z"
    }
   },
   "outputs": [],
   "source": [
    "# 递归\n",
    "def fib(n):\n",
    "    if n <= 1:\n",
    "        return n\n",
    "    else:\n",
    "        return fib(n - 1) + fib(n -2)"
   ]
  },
  {
   "cell_type": "code",
   "execution_count": 85,
   "id": "47d33877",
   "metadata": {
    "ExecuteTime": {
     "end_time": "2023-03-05T13:23:46.450345Z",
     "start_time": "2023-03-05T13:23:43.515427Z"
    }
   },
   "outputs": [
    {
     "name": "stdout",
     "output_type": "stream",
     "text": [
      "371 ms ± 19.7 ms per loop (mean ± std. dev. of 7 runs, 1 loop each)\n"
     ]
    }
   ],
   "source": [
    "%%timeit\n",
    "a = fib(30)"
   ]
  },
  {
   "cell_type": "markdown",
   "id": "e78269da",
   "metadata": {},
   "source": [
    "动态规划："
   ]
  },
  {
   "cell_type": "code",
   "execution_count": 86,
   "id": "5ced82c4",
   "metadata": {
    "ExecuteTime": {
     "end_time": "2023-03-05T13:23:46.458154Z",
     "start_time": "2023-03-05T13:23:46.452297Z"
    }
   },
   "outputs": [],
   "source": [
    "mem = [0,1]\n",
    "def fib2(n):\n",
    "    if n<0:\n",
    "        return 0\n",
    "    if n<len(mem):\n",
    "        return mem[n]\n",
    "    else:\n",
    "        res =  fib2(n-1)+fib2(n-2)\n",
    "        mem.append(res)\n",
    "        return res\n",
    "    \n",
    "    \n",
    "# 或者不用数组\n",
    "def fibonacci(n):\n",
    "    a, b = 0, 1\n",
    "    for i in range(n):\n",
    "        a, b = b, a+b\n",
    "    return a"
   ]
  },
  {
   "cell_type": "code",
   "execution_count": 87,
   "id": "c40d7eec",
   "metadata": {
    "ExecuteTime": {
     "end_time": "2023-03-05T13:23:48.206760Z",
     "start_time": "2023-03-05T13:23:46.475722Z"
    }
   },
   "outputs": [
    {
     "name": "stdout",
     "output_type": "stream",
     "text": [
      "211 ns ± 13.5 ns per loop (mean ± std. dev. of 7 runs, 1,000,000 loops each)\n"
     ]
    }
   ],
   "source": [
    "%%timeit  \n",
    "a = fib2(100)"
   ]
  },
  {
   "cell_type": "code",
   "execution_count": 88,
   "id": "a50fd19b",
   "metadata": {
    "ExecuteTime": {
     "end_time": "2023-03-05T13:23:52.696650Z",
     "start_time": "2023-03-05T13:23:48.208447Z"
    }
   },
   "outputs": [
    {
     "name": "stdout",
     "output_type": "stream",
     "text": [
      "5.5 µs ± 300 ns per loop (mean ± std. dev. of 7 runs, 100,000 loops each)\n"
     ]
    }
   ],
   "source": [
    "%%timeit  \n",
    "b = fibonacci(100)"
   ]
  },
  {
   "cell_type": "markdown",
   "id": "d0025022",
   "metadata": {},
   "source": [
    "递归方式容易理解，但需要递归调用函数（每次调用函数都要开一块内存放临时变量，开销比较大），效率相对较低。\n",
    "而动态规划方式的更加高效，但有时可能不太容易理解。"
   ]
  },
  {
   "cell_type": "markdown",
   "id": "a4153718",
   "metadata": {},
   "source": [
    "# 2.Data Structures(I)\n",
    "## 2.1 Stack\n",
    "![](assets/2.1-p1.png)\n",
    "栈中元素后进先出。我们把添加元素称为`push`，取出元素称为`pop`.\n",
    "\n",
    "### 栈的操作\n",
    "栈是一个允许执行以下操作的抽象数据结构（ADT）：\n",
    "\n",
    "`Push`：将元素添加到栈顶部\n",
    "`Pop`：从栈顶部删除元素\n",
    "`IsEmpty`：检查栈是否为空\n",
    "`IsFull`：检查栈是否已满\n",
    "`Peek`：获取顶部元素的值而不删除它\n",
    "\n",
    "![](assets/2.1-p2.png)\n",
    "### 栈的实现\n",
    "使用指针TOP用于跟踪栈中的顶部元素。\n",
    "初始化栈时，将其值设置为`-1`，以便通过比较`TOP == -1`来检查栈是否为空。\n",
    "推入元素时，增加TOP的值，然后将新元素放置在TOP指向的位置。\n",
    "弹出元素时，返回TOP指向的元素并减小其值。\n",
    "推入之前，检查栈是否已满\n",
    "弹出之前，检查栈是否已为空\n"
   ]
  },
  {
   "cell_type": "markdown",
   "id": "ca045df4",
   "metadata": {
    "ExecuteTime": {
     "end_time": "2023-03-05T13:27:17.342251Z",
     "start_time": "2023-03-05T13:27:17.336370Z"
    }
   },
   "source": [
    "Python实现\n",
    ">网站上的Python实现有点太简单了，并没有使用数组，而是利用了list的一些功能（append、pop、len)。如果这样，list本身就可以当做stack和queue使用。\n",
    ">但是貌似也没什么问题，LeetCode等刷题网站也是可以这样做的。所以后面提供\n",
    ">简单方法 和 不使用list功能的2个版本。\n",
    "\n",
    "网站版本见(https://www.programiz.com/dsa/stack)\n",
    "\n",
    "下面是自己用类写的版本："
   ]
  },
  {
   "cell_type": "code",
   "execution_count": 90,
   "id": "155fa0ff",
   "metadata": {
    "ExecuteTime": {
     "end_time": "2023-03-05T13:27:39.666046Z",
     "start_time": "2023-03-05T13:27:39.655307Z"
    }
   },
   "outputs": [
    {
     "name": "stdout",
     "output_type": "stream",
     "text": [
      "stack  ['0', '1', '2', '3']\n",
      "popped item: 3\n",
      "stack after popping an element: ['0', '1', '2']\n"
     ]
    }
   ],
   "source": [
    "# Stack\n",
    "class Stack:\n",
    "    def __init__(self, size):\n",
    "        self.size = size\n",
    "        self.stack = []\n",
    "\n",
    "    def push(self, ele):\n",
    "        self.stack.append(ele)\n",
    "\n",
    "    def pop(self):\n",
    "        if self.is_empty():\n",
    "            print(\"stack is empty\")\n",
    "            return None\n",
    "        return self.stack.pop()\n",
    "\n",
    "    def is_empty(self):\n",
    "        return len(self.stack) == 0\n",
    "\n",
    "    def is_full(self):\n",
    "        return len(self.stack) == self.size\n",
    "\n",
    "    def __str__(self):\n",
    "        return str(self.stack)\n",
    "\n",
    "\n",
    "if __name__ == '__main__':\n",
    "    stack = Stack(10)\n",
    "    for i in range(4):\n",
    "        stack.push(str(i))\n",
    "    print(\"stack  \" + str(stack))\n",
    "    print(\"popped item: \" + stack.pop())\n",
    "    print(\"stack after popping an element: \" + str(stack))"
   ]
  },
  {
   "cell_type": "markdown",
   "id": "2bbd2317",
   "metadata": {},
   "source": [
    "不使用list特性的实现(参考java）："
   ]
  },
  {
   "cell_type": "code",
   "execution_count": 91,
   "id": "cedf1bca",
   "metadata": {
    "ExecuteTime": {
     "end_time": "2023-03-05T13:27:56.607098Z",
     "start_time": "2023-03-05T13:27:56.599290Z"
    }
   },
   "outputs": [
    {
     "name": "stdout",
     "output_type": "stream",
     "text": [
      "stack is full, cancel push\n",
      "stack  ['0', '1', '2', '3', '4', '5', '6', '7', '8', '9']\n",
      "popped item: 9\n",
      "stack after popping an element: ['0', '1', '2', '3', '4', '5', '6', '7', '8']\n"
     ]
    }
   ],
   "source": [
    "# Stack\n",
    "class Stack2:\n",
    "    def __init__(self, size):\n",
    "        self.size = size\n",
    "        self.stack = [None]* size\n",
    "        self.top = -1\n",
    "\n",
    "    def push(self, ele):\n",
    "        if self.is_full():\n",
    "            print(\"stack is full, cancel push\")\n",
    "            return\n",
    "        self.top += 1\n",
    "        self.stack[self.top] = ele\n",
    "\n",
    "    def pop(self):\n",
    "        if self.is_empty():\n",
    "            print(\"stack is empty\")\n",
    "            return None\n",
    "        res = self.stack[self.top]\n",
    "        self.top -= 1\n",
    "        return res\n",
    "\n",
    "    def is_empty(self):\n",
    "        return self.top == -1\n",
    "\n",
    "    def is_full(self):\n",
    "        return self.top == self.size -1\n",
    "\n",
    "    def __str__(self):\n",
    "        return str(self.stack[:self.top+1]) if self.top != -1 else str([])\n",
    "\n",
    "\n",
    "if __name__ == '__main__':\n",
    "    stack = Stack2(10)\n",
    "    for i in range(11):\n",
    "        stack.push(str(i))\n",
    "    print(\"stack  \" + str(stack))\n",
    "    print(\"popped item: \" + stack.pop())\n",
    "    print(\"stack after popping an element: \" + str(stack))"
   ]
  },
  {
   "cell_type": "markdown",
   "id": "1aea8c15",
   "metadata": {},
   "source": [
    "**测试**：https://leetcode.cn/problems/implement-stack-using-queues/"
   ]
  },
  {
   "cell_type": "markdown",
   "id": "7af4fb2a",
   "metadata": {},
   "source": [
    "**栈的时间复杂度**\n",
    "对于基于数组的栈实现，推入和弹出操作需要固定时间，即`O(1)`，因为在两种情况下都只有指针移动。\n",
    "\n",
    "**栈的应用**\n",
    "尽管栈是一个易于实现的简单数据结构，但它非常强大。 栈最常见的用途是：\n",
    "\n",
    "- **反转**单词: 将所有字母叠放并弹出。 由于栈的 LIFO 顺序，您将获得相反顺序的字母。\n",
    "- 在编译器中: 编译器使用栈通过将表达式转换为前缀或后缀形式来计算2 + 4 / 5 * (7 - 9)之类的表达式的值。\n",
    "- 在浏览器中: 浏览器中的“后退”按钮会将您以前访问过的所有 URL 保存在栈中。 每次您访问新页面时，它都会被添加到栈顶部。 当您按下“后退”按钮时，当前 URL 从栈中删除，并访问前一个 URL"
   ]
  },
  {
   "cell_type": "markdown",
   "id": "1df7ed35",
   "metadata": {},
   "source": [
    "## 2.2 Queue\n",
    "![](assets/2.2-p1.png)\n",
    "队列元素先进先出。我们将放入元素称为`enqueue`，取出元素称为`dequeue`。\n",
    "\n",
    "**队列的操作**：\n",
    "- Enqueue: 在队列末尾添加元素\n",
    "- Dequeue:在队列开头移除元素\n",
    "- IsEmpty: Check if the queue is empty\n",
    "- IsFull: Check if the queue is full\n",
    "- Peek: 获取队列开头元素但不移除\n",
    "\n",
    "**队列的实现**\n",
    "（这个实现是基于不可变数组的，在Python中实现比较简单，不需要指针概念）\n",
    "使用两个指针`FRONT`和`REAR`分布追踪队列开头和结尾元素。指针初始值为`-1`。\n",
    "Enqueue：\n",
    "- 检查队列是否已满。\n",
    "- 如果是第一个元素，设置`FRONT`为0。\n",
    "- `REAR`索引加1,将新元素放到`REAR`所指的位置。\n",
    "Dequeue：\n",
    "- 检查队列是否为空。\n",
    "- 返回`FRONT`所指元素。\n",
    "- `FRONT` 加1\n",
    "- 如果是最后一个元素，设置`FRONT`和`REAR`为-1。\n",
    "![](assets/2.2-p2.png)\n",
    "\n",
    "Queue的Python实现"
   ]
  },
  {
   "cell_type": "code",
   "execution_count": 92,
   "id": "a5f0c294",
   "metadata": {
    "ExecuteTime": {
     "end_time": "2023-03-05T13:28:51.750769Z",
     "start_time": "2023-03-05T13:28:51.742987Z"
    }
   },
   "outputs": [
    {
     "name": "stdout",
     "output_type": "stream",
     "text": [
      "[1, 2, 3, 4, 5]\n",
      "After removing an element\n",
      "[2, 3, 4, 5]\n"
     ]
    }
   ],
   "source": [
    "# Queue implementation in Python\n",
    "\n",
    "class Queue:\n",
    "\n",
    "    def __init__(self):\n",
    "        self.queue = []\n",
    "\n",
    "    # Add an element\n",
    "    def enqueue(self, item):\n",
    "        self.queue.append(item)\n",
    "\n",
    "    # Remove an element\n",
    "    def dequeue(self):\n",
    "        if len(self.queue) < 1:\n",
    "            return None\n",
    "        return self.queue.pop(0)\n",
    "\n",
    "    # Display  the queue\n",
    "    def display(self):\n",
    "        print(self.queue)\n",
    "\n",
    "    def size(self):\n",
    "        return len(self.queue)\n",
    "\n",
    "\n",
    "q = Queue()\n",
    "q.enqueue(1)\n",
    "q.enqueue(2)\n",
    "q.enqueue(3)\n",
    "q.enqueue(4)\n",
    "q.enqueue(5)\n",
    "\n",
    "q.display()\n",
    "\n",
    "q.dequeue()\n",
    "\n",
    "print(\"After removing an element\")\n",
    "q.display()"
   ]
  },
  {
   "cell_type": "markdown",
   "id": "01b19655",
   "metadata": {},
   "source": [
    "注意，由于利用了list的方法，所以没有实现isfull(), isempty()等。"
   ]
  },
  {
   "cell_type": "markdown",
   "id": "056f16b5",
   "metadata": {},
   "source": [
    "\n",
    "版本二（不利用list方法）"
   ]
  },
  {
   "cell_type": "code",
   "execution_count": 93,
   "id": "0f17f2ac",
   "metadata": {
    "ExecuteTime": {
     "end_time": "2023-03-05T13:30:01.101463Z",
     "start_time": "2023-03-05T13:30:01.092648Z"
    }
   },
   "outputs": [
    {
     "name": "stdout",
     "output_type": "stream",
     "text": [
      "queue is full, cancel enqueue\n",
      "[1, 2, 3, 4, 5, 6, 7, 8, 9, 10]\n",
      "After removing an element\n",
      "[2, 3, 4, 5, 6, 7, 8, 9, 10]\n"
     ]
    }
   ],
   "source": [
    "# Queue implementation in Python\n",
    "\n",
    "class Queue:\n",
    "\n",
    "    def __init__(self,size):\n",
    "        self.queue = [None]*size\n",
    "        self.size = size\n",
    "        self.front = -1 \n",
    "        self.rear = -1 \n",
    "\n",
    "    def is_full(self):\n",
    "        return  self.front == 0 and self.rear == self.size -1\n",
    "\n",
    "    def is_empty(self):\n",
    "        return  self.front == -1\n",
    "\n",
    "    # Add an element\n",
    "    def enqueue(self, item):\n",
    "        if self.is_full():\n",
    "            print(\"queue is full, cancel enqueue\")\n",
    "            return None\n",
    "        if self.front == -1:\n",
    "            self.front = 0\n",
    "        self.rear += 1\n",
    "        self.queue[self.rear] = item\n",
    "\n",
    "    # Remove an element\n",
    "    def dequeue(self):\n",
    "        if self.is_empty():\n",
    "            print(\"queue is empty, cancel dequeue\")\n",
    "            return None\n",
    "        res = self.queue[self.front]\n",
    "\n",
    "        if self.front == self.rear:\n",
    "            self.front = self.rear = -1\n",
    "        else:\n",
    "            self.front += 1\n",
    "        return res\n",
    "\n",
    "\n",
    "    # Display  the queue\n",
    "    def __str__(self):\n",
    "        return str(self.queue[self.front:self.rear+1])\n",
    "\n",
    "\n",
    "\n",
    "q = Queue(10)\n",
    "for i in range(1,12):\n",
    "    q.enqueue(i)\n",
    "\n",
    "\n",
    "print(q)\n",
    "q.dequeue()\n",
    "print(\"After removing an element\")\n",
    "print(q)"
   ]
  },
  {
   "cell_type": "markdown",
   "id": "841b0787",
   "metadata": {},
   "source": [
    "**缺陷**\n",
    "![](assets/2.2-p3.png)\n",
    "可以发现，经过若干入队，出队操作后，指针向右移动，而左面的空间无法使用（除非队列清空了，指针重置）。这个问题可以通过循环队列解决。\n",
    "\n",
    "**复杂度**\n",
    "使用数组的队列中入队和出队操作的复杂度为O(1)。\n",
    "\n",
    "**队列应用**\n",
    "- CPU 调度，磁盘调度\n",
    "- 在两个进程之间异步传输数据时，使用队列进行同步。 例如：IO 缓冲区，管道，文件 IO 等\n",
    "- 实时系统中的中断处理。\n",
    "- 呼叫中心电话系统使用队列来保持人们按顺序呼叫他们"
   ]
  },
  {
   "cell_type": "markdown",
   "id": "f9155d6c",
   "metadata": {},
   "source": [
    "\n",
    "## 2.3 Types of Queue\n",
    "有4种不同的队列：\n",
    "- Simple Queue （简单队列）\n",
    "- Circular Queue （循环队列）\n",
    "- Priority Queue （优先级队列）\n",
    "- Double Ended Queue（双端队列）\n",
    "\n",
    "\n",
    "**简单队列**， 遵循先进先出规则。\n",
    "![](assets/2.3-p1.png)\n",
    "\n",
    "\n",
    "**循环队列**，最后一个元素指向第一个元素\n",
    "![](assets/2.3-p2.png)\n",
    "\n",
    "**优先级队列**，插入时根据值的到达发生，而删除根据优先级发生\n",
    "![](assets/2.3-p3.png)\n",
    "\n",
    "**双端队列**，两头都可以插入或删除，它不遵循先进先出。\n",
    "![](assets/2.3-p4.png)\n"
   ]
  },
  {
   "cell_type": "markdown",
   "id": "a6b67eaf",
   "metadata": {},
   "source": [
    "## 2.4 Circular Queue\n",
    "循环队列是普通队列的一个扩展，它将最后元素和第一个元素连接起来，构成循环。解决了普通队列的空间浪费的问题。\n",
    "![](assets/2.4-p1.png)\n",
    "\n",
    "**如何实现循环？**\n",
    "通过指针的**循环加**实现。也就是说，如果指针到达队列的末尾，就会从头开始(通过取余实现)。\n",
    "`if REAR + 1 == 8 (overflow!), REAR = (REAR + 1)%8 = 0 (start of queue)`\n",
    "\n",
    "**循环队列的操作**\n",
    "首先，它满足普通队列的操作。\n",
    "使用两个指针`FRONT`和`REAR`分布追踪队列开头和结尾元素。指针初始值为`-1`。\n",
    "Enqueue：\n",
    "- 检查是否已满\n",
    "- 如果是第一个元素，`FRONT`设为0.\n",
    "- 循环加`REAR`索引\n",
    "- 将新元素放到`REAR`位置\n",
    "\n",
    "Dequeue：\n",
    "- 检查是否为空\n",
    "- 返回`FRONT`位置元素\n",
    "- 循环加`FRONT`\n",
    "- 如果是最后一个元素，重置`FRONT`和`REAR`为-1\n",
    "\n",
    "然而，检查队列满需要考虑新的情况：\n",
    "- case 1: FRONT == 0 && REAR == SIZE - 1\n",
    "- case 2: FRONT == REAR + 1\n",
    "\n",
    "这两种情况可以合并为：\n",
    "`(REAR+1)% SIZE == FRONT`\n",
    "第二种情况发生在REAR由于循环加而从 0 开始且其值仅比FRONT小 1 时，队列已满。\n",
    "![](assets/2.4-p2.png)"
   ]
  },
  {
   "cell_type": "code",
   "execution_count": 98,
   "id": "d4e3f9c0",
   "metadata": {
    "ExecuteTime": {
     "end_time": "2023-03-05T13:35:24.558888Z",
     "start_time": "2023-03-05T13:35:24.548175Z"
    }
   },
   "outputs": [],
   "source": [
    "#**循环队列的Python实现**\n",
    "class MyCircularQueue:\n",
    "    def __init__(self, size):\n",
    "        self.size = size\n",
    "        self.queue = [None] * size\n",
    "        self.head = self.tail = -1\n",
    "\n",
    "    def is_empty(self):\n",
    "        return self.head == -1\n",
    "\n",
    "    def is_full(self):\n",
    "        return (self.tail + 1) % self.size == self.head\n",
    "\n",
    "    # Insert an element into the circular queue\n",
    "    def enqueue(self, data):\n",
    "        if self.is_full():\n",
    "            print(\"The circular queue is full\\n\")\n",
    "            return None\n",
    "        if self.head == -1:\n",
    "            self.head = 0\n",
    "        self.tail = (self.tail + 1) % self.size\n",
    "        self.queue[self.tail] = data\n",
    "\n",
    "    # Delete an element from the circular queue\n",
    "    def dequeue(self):\n",
    "        if self.is_empty():\n",
    "            print(\"The circular queue is empty\\n\")\n",
    "            return None\n",
    "\n",
    "        temp = self.queue[self.head]\n",
    "        if self.head == self.tail:\n",
    "            self.head = -1\n",
    "            self.tail = -1\n",
    "        else:\n",
    "            self.head = (self.head + 1) % self.size\n",
    "        return temp\n",
    "\n",
    "    def __str__(self):\n",
    "        if self.head == -1:\n",
    "            return \"No element in the circular queue\"\n",
    "        elif self.tail >= self.head:\n",
    "            return str(self.queue[self.head: self.tail + 1])\n",
    "        else:\n",
    "            return str(self.queue[self.head: self.size] + self.queue[:self.tail + 1])"
   ]
  },
  {
   "cell_type": "markdown",
   "id": "6df2132e",
   "metadata": {},
   "source": [
    "**测试：**\n",
    "https://leetcode.cn/problems/design-circular-queue/\n",
    "注：需要根据题目要求做一些修改。\n",
    "**时间复杂度**\n",
    "出队入队为O(1)\n",
    "**循环队列应用**\n",
    "- CPU 调度\n",
    "- 内存管理\n",
    "- 交通管理\n",
    "\n",
    "### 循环队列要点小结\n",
    "1. 通过循环加(`rear = (rear + 1)%size`) 实现循环\n",
    "2. 通过front == -1 判断空\n",
    "3. 通过(rear + 1)%size == front 判断满\n",
    "4. 判断入队和出队时的特殊情况：队列变空/非空"
   ]
  },
  {
   "cell_type": "markdown",
   "id": "dd198342",
   "metadata": {},
   "source": [
    "## 2.5 Priority Queue\n",
    "优先级队列出队顺序和元素的优先级相关，而不是先进先出。\n",
    "通常使用二叉堆(heap)实现优先队列。下面用最大堆（父>子）实现。\n",
    "（这个实际上主要讲了堆操作，如何实现可以等到看到堆的时候再回头看）\n",
    "优先级队列的**插入元素**：\n",
    "1.将元素**插入树的底部**\n",
    "![](assets/2.5-1.png)\n",
    "2.Heapify\n",
    "![](assets/2.5-2.png)\n",
    "\n",
    "**删除元素**\n",
    "1.选择要删除的元素(3)\n",
    "![](assets/2.5-3.png)\n",
    "2.与树的底部元素交换\n",
    "![](assets/2.5-4.png)\n",
    "3.删除元素\n",
    "![](assets/2.5-5.png)\n",
    "4.Heapify\n",
    "![](assets/2.5-6.png)\n",
    "\n",
    "**Peek**\n",
    "返回根节点\n",
    "**提取最大/小值**\n",
    "从最大堆中删除节点后，Extract-Max返回具有最大值的节点，而从最小堆中删除节点后，Extract-Min返回具有最小值的节点。\n",
    "\n",
    "优先队列Python实现"
   ]
  },
  {
   "cell_type": "code",
   "execution_count": 95,
   "id": "90903bf7",
   "metadata": {
    "ExecuteTime": {
     "end_time": "2023-03-05T13:31:00.444502Z",
     "start_time": "2023-03-05T13:31:00.432758Z"
    }
   },
   "outputs": [
    {
     "name": "stdout",
     "output_type": "stream",
     "text": [
      "Max-Heap array: [9, 5, 4, 3, 2]\n",
      "After deleting an element: [9, 5, 2, 3]\n"
     ]
    }
   ],
   "source": [
    "# Priority Queue implementation in Python\n",
    "\n",
    "\n",
    "# Function to heapify the tree\n",
    "def heapify(arr, n, i):\n",
    "    # Find the largest among root, left child and right child\n",
    "    largest = i\n",
    "    l = 2 * i + 1\n",
    "    r = 2 * i + 2\n",
    "\n",
    "    if l < n and arr[i] < arr[l]:\n",
    "        largest = l\n",
    "\n",
    "    if r < n and arr[largest] < arr[r]:\n",
    "        largest = r\n",
    "\n",
    "    # Swap and continue heapifying if root is not largest\n",
    "    if largest != i:\n",
    "        arr[i], arr[largest] = arr[largest], arr[i]\n",
    "        heapify(arr, n, largest)\n",
    "\n",
    "\n",
    "# Function to insert an element into the tree\n",
    "def insert(array, newNum):\n",
    "    size = len(array)\n",
    "    if size == 0:\n",
    "        array.append(newNum)\n",
    "    else:\n",
    "        array.append(newNum)\n",
    "        for i in range((size // 2) - 1, -1, -1):\n",
    "            heapify(array, size, i)\n",
    "\n",
    "\n",
    "# Function to delete an element from the tree\n",
    "def deleteNode(array, num):\n",
    "    size = len(array)\n",
    "    i = 0\n",
    "    for i in range(0, size):\n",
    "        if num == array[i]:\n",
    "            break\n",
    "\n",
    "    array[i], array[size - 1] = array[size - 1], array[i]\n",
    "\n",
    "    array.remove(size - 1)\n",
    "\n",
    "    for i in range((len(array) // 2) - 1, -1, -1):\n",
    "        heapify(array, len(array), i)\n",
    "\n",
    "\n",
    "arr = []\n",
    "\n",
    "insert(arr, 3)\n",
    "insert(arr, 4)\n",
    "insert(arr, 9)\n",
    "insert(arr, 5)\n",
    "insert(arr, 2)\n",
    "\n",
    "print (\"Max-Heap array: \" + str(arr))\n",
    "\n",
    "deleteNode(arr, 4)\n",
    "print(\"After deleting an element: \" + str(arr))"
   ]
  },
  {
   "cell_type": "markdown",
   "id": "375d2aab",
   "metadata": {},
   "source": [
    "Python的库实现：https://docs.python.org/zh-cn/3/library/queue.html?highlight=queue#queue.PriorityQueue\n",
    "\n",
    "**优先队列应用**\n",
    "- Dijkstra 算法\n",
    "- 用于实现栈\n",
    "- 用于操作系统中的负载平衡和中断处理\n",
    "- 用于霍夫曼代码中的数据压缩"
   ]
  },
  {
   "cell_type": "markdown",
   "id": "a1252f5c",
   "metadata": {},
   "source": [
    "## 2.6 Deque\n",
    "(这个部分programiz.com上感觉有点问题，建议直接看LeetCode上的循环双端队列题解)\n",
    "双端队列是队列的一种，其中元素的插入和删除可以从前面或后面进行。 因此，它不遵循 FIFO 规则（先进先出）。\n",
    "### 双端循环队列小结\n",
    "- 使用front和rear指针指向队列头和尾。初始化front = -1, rear = -1\n",
    "- 判空用front == -1。 判满有2种情况：1. front在最左，rear在最右；2.  front在rear右一格： `front == 0 and rear == n - 1 OR front == rear + 1`\n",
    "- 插入前都要判满，删除前都要判空\n",
    "- 插入时考虑特殊情况，队列为空时，插入一个元素将导致`front=rear=0`。\n",
    "- 使用循环-和循环+ 左右移动指针。例如插入时：front和rear:`self.front = (self.front-1) % self.size` 、`self.rear = (self.rear+1)%self.size` 插入时front向左，删除时front向右。\n",
    "- 删除时考虑只有一个元素时，删除将清空队列。\n",
    "\n",
    "下面是用循环数组实现的双端队列\n",
    "操作：\n",
    "- **初始化**\n",
    "- **在前面插入**\n",
    "- **在尾部插入**\n",
    "- **从前面删除** \n",
    "- **从后面删除**\n",
    "- **Check Empty**\n",
    "If front == -1, the deque is empty.\n",
    "- **Check Full**\n",
    "If front == 0 and rear == n - 1 OR front == rear + 1, the deque is full.\n",
    "\n",
    "Python实现Dequeue(简单版)"
   ]
  },
  {
   "cell_type": "code",
   "execution_count": 99,
   "id": "6ae75927",
   "metadata": {
    "ExecuteTime": {
     "end_time": "2023-03-05T13:36:26.852467Z",
     "start_time": "2023-03-05T13:36:26.844661Z"
    }
   },
   "outputs": [
    {
     "name": "stdout",
     "output_type": "stream",
     "text": [
      "True\n",
      "4\n",
      "False\n",
      "11\n",
      "10\n",
      "[55, 7, 8, 5, 45]\n"
     ]
    }
   ],
   "source": [
    "# Deque implementaion in python\n",
    "\n",
    "class Deque:\n",
    "    def __init__(self):\n",
    "        self.items = []\n",
    "\n",
    "    def isEmpty(self):\n",
    "        return self.items == []\n",
    "\n",
    "    def addRear(self, item):\n",
    "        self.items.append(item)\n",
    "\n",
    "    def addFront(self, item):\n",
    "        self.items.insert(0, item)\n",
    "\n",
    "    def removeFront(self):\n",
    "        return self.items.pop(0)\n",
    "\n",
    "    def removeRear(self):\n",
    "        return self.items.pop()\n",
    "\n",
    "    def size(self):\n",
    "        return len(self.items)\n",
    "\n",
    "\n",
    "d = Deque()\n",
    "print(d.isEmpty())\n",
    "d.addRear(8)\n",
    "d.addRear(5)\n",
    "d.addFront(7)\n",
    "d.addFront(10)\n",
    "print(d.size())\n",
    "print(d.isEmpty())\n",
    "d.addRear(11)\n",
    "print(d.removeRear())\n",
    "print(d.removeFront())\n",
    "d.addFront(55)\n",
    "d.addRear(45)\n",
    "print(d.items)"
   ]
  },
  {
   "cell_type": "markdown",
   "id": "8431c744",
   "metadata": {},
   "source": [
    "数组实现双端循环队列Dequeue："
   ]
  },
  {
   "cell_type": "code",
   "execution_count": 100,
   "id": "141becb6",
   "metadata": {
    "ExecuteTime": {
     "end_time": "2023-03-05T13:36:28.675834Z",
     "start_time": "2023-03-05T13:36:28.665101Z"
    }
   },
   "outputs": [],
   "source": [
    "class MyCircularDeque:\n",
    "    def __init__(self, size):\n",
    "        self.size = size\n",
    "        self.items = [-1] * size\n",
    "        self.front = -1\n",
    "        self.rear = -1\n",
    "\n",
    "    def isFull(self):\n",
    "        return (self.front == 0 and self.rear == self.size - 1) or (self.front == self.rear + 1)\n",
    "\n",
    "    def isEmpty(self):\n",
    "        return self.front == -1\n",
    "\n",
    "    def insertFront(self, item):\n",
    "        if self.isFull():\n",
    "            return False\n",
    "        if self.isEmpty():\n",
    "            self.front = self.rear = 0\n",
    "        else:\n",
    "            self.front = (self.front-1) % self.size\n",
    "        self.items[self.front] = item\n",
    "        return True\n",
    "\n",
    "    def insertLast(self, item):\n",
    "        if self.isFull():\n",
    "            return False\n",
    "        if self.isEmpty():\n",
    "            self.front = self.rear = 0\n",
    "        else:\n",
    "            self.rear = (self.rear+1)%self.size\n",
    "        self.items[self.rear] = item\n",
    "        return True\n",
    "\n",
    "    def deleteFront(self):\n",
    "        if self.isEmpty():\n",
    "            return False\n",
    "        if self.front == self.rear:\n",
    "            self.front = self.rear = -1\n",
    "        else:\n",
    "            self.front = (self.front+1)% self.size\n",
    "        return True\n",
    "\n",
    "    def  deleteLast(self):\n",
    "        if self.isEmpty():\n",
    "            return False\n",
    "        if self.front == self.rear:\n",
    "            self.front = self.rear = -1\n",
    "        else:\n",
    "            self.rear = (self.rear-1)%self.size\n",
    "        return True\n",
    "\n",
    "    def getFront(self):\n",
    "        if self.isEmpty():\n",
    "            return -1\n",
    "        return self.items[self.front]\n",
    "\n",
    "    def getRear(self):\n",
    "        if self.isEmpty() or self.rear < 0:\n",
    "            return -1\n",
    "        return self.items[self.rear]"
   ]
  },
  {
   "cell_type": "markdown",
   "id": "59f16310",
   "metadata": {},
   "source": [
    "**应用**\n",
    "- 软件中的撤销操作(undo)\n",
    "- 浏览器历史记录\n",
    "- 实现stack和queue。"
   ]
  }
 ],
 "metadata": {
  "kernelspec": {
   "display_name": "Python 3 (ipykernel)",
   "language": "python",
   "name": "python3"
  },
  "language_info": {
   "codemirror_mode": {
    "name": "ipython",
    "version": 3
   },
   "file_extension": ".py",
   "mimetype": "text/x-python",
   "name": "python",
   "nbconvert_exporter": "python",
   "pygments_lexer": "ipython3",
   "version": "3.8.13"
  },
  "vp": {
   "vp_config_version": "1.0.0",
   "vp_menu_width": 273,
   "vp_note_display": false,
   "vp_note_width": 0,
   "vp_position": {
    "width": 278
   },
   "vp_section_display": false,
   "vp_signature": "VisualPython"
  }
 },
 "nbformat": 4,
 "nbformat_minor": 5
}
